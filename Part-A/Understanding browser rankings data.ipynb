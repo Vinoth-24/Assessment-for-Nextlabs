{
 "cells": [
  {
   "cell_type": "markdown",
   "id": "8d984cf9",
   "metadata": {},
   "source": [
    "### Research on Factors affecting Rank:\n",
    "- There are lot of factors affecting an apps rank for different keywords\n",
    "- Evem though Google's actual factors for calculatig the rank is unknown, we can try to manipulate it to increase our ApP's visibility.\n",
    "- This is where ASO comes in.\n",
    "- Many factors like meta title, app name, URL,content relevancy, ratings, downloads etc. "
   ]
  },
  {
   "cell_type": "markdown",
   "id": "fd41126c",
   "metadata": {},
   "source": [
    "- From research we get to know that URL (i.e., App id name ) is one of the important factors for ASO rankings for keywords. <br>\n",
    "Letss try to check it with our data."
   ]
  },
  {
   "cell_type": "code",
   "execution_count": 4,
   "id": "15fd07b1",
   "metadata": {},
   "outputs": [],
   "source": [
    "import pandas as pd"
   ]
  },
  {
   "cell_type": "code",
   "execution_count": 5,
   "id": "a9217644",
   "metadata": {},
   "outputs": [],
   "source": [
    "df = pd.read_csv(\"A:/Next Labs test/browser_rankings_data.csv\")"
   ]
  },
  {
   "cell_type": "code",
   "execution_count": 99,
   "id": "f34f0c5b",
   "metadata": {
    "collapsed": true
   },
   "outputs": [
    {
     "data": {
      "text/html": [
       "<div><div id=7cf52690-fade-4433-8d69-49b911b40f6b style=\"display:none; background-color:#9D6CFF; color:white; width:200px; height:30px; padding-left:5px; border-radius:4px; flex-direction:row; justify-content:space-around; align-items:center;\" onmouseover=\"this.style.backgroundColor='#BA9BF8'\" onmouseout=\"this.style.backgroundColor='#9D6CFF'\" onclick=\"window.commands?.execute('create-mitosheet-from-dataframe-output');\">See Full Dataframe in Mito</div> <script> if (window.commands.hasCommand('create-mitosheet-from-dataframe-output')) document.getElementById('7cf52690-fade-4433-8d69-49b911b40f6b').style.display = 'flex' </script> <table border=\"1\" class=\"dataframe\">\n",
       "  <thead>\n",
       "    <tr style=\"text-align: right;\">\n",
       "      <th></th>\n",
       "      <th>ID</th>\n",
       "      <th>Keyword</th>\n",
       "      <th>Rank</th>\n",
       "      <th>Country</th>\n",
       "      <th>Language</th>\n",
       "      <th>Date</th>\n",
       "      <th>App ID</th>\n",
       "      <th>Date of Last Description Change</th>\n",
       "      <th>Short Description</th>\n",
       "      <th>Long Description</th>\n",
       "    </tr>\n",
       "  </thead>\n",
       "  <tbody>\n",
       "    <tr>\n",
       "      <th>0</th>\n",
       "      <td>1</td>\n",
       "      <td>browser</td>\n",
       "      <td>2.0</td>\n",
       "      <td>in</td>\n",
       "      <td>en</td>\n",
       "      <td>12/16/2020</td>\n",
       "      <td>net.fast.web.browser</td>\n",
       "      <td>12/18/2020</td>\n",
       "      <td>The small, fastest, secure Web Browser, best mobile browser, fast search Google.</td>\n",
       "      <td>One of the smallest, fastest, secure Web Browser; \\r\\nIt is specifically designed for mobile phones and tablet, brings you an amazing Premium web experience.\\r\\n\\r\\nIt is based off the Android WebKit Engine.\\r\\n\\r\\nKey Features:\\r\\n- Tabbed Internet Browsing\\r\\n- Incognito Mode. Private browse the web without saving any browser history.\\r\\n- Supports Adobe Flash Player \\r\\n- The fastest Start Times: View web pages quicker on your phone\\r\\n- Block Ads\\r\\n- Homepage: Add favorite links to your homepage with a single click and access sites easily from your mobile desktop;\\r\\n- Bookmarks\\r\\n- History\\r\\n- Find in Page\\r\\n- Super easy copy/paste\\r\\n- Small Footprint\\r\\n- Full-screen mode\\r\\n- Quick search: most popular default search engines\\r\\n- User Agent settings\\r\\n- Advanced Gesture feature\\r\\n- Sharing - Super-easy and intuitive ways to share mobile contents through social media channels.\\r\\n- Advanced Settings\\r\\n- Uses the Native JavaScript and WebKit Engine so file size is smaller\\r\\n- Custom download location\\r\\n\\r\\nIt is a high-performance small-sized Internet browser built for those who don't want the cumbersome size of other Browser. \\r\\nWeb Browser with the latest security and privacy features to help you stay safe on the internet.\\r\\nWe wish you can have the best web surfing experience for using Web Browser.</td>\n",
       "    </tr>\n",
       "  </tbody>\n",
       "</table></div>"
      ],
      "text/plain": [
       "   ID  Keyword  Rank Country Language        Date                App ID  \\\n",
       "0   1  browser   2.0      in       en  12/16/2020  net.fast.web.browser   \n",
       "\n",
       "  Date of Last Description Change  \\\n",
       "0                      12/18/2020   \n",
       "\n",
       "                                   Short Description  \\\n",
       "0  The small, fastest, secure Web Browser, best m...   \n",
       "\n",
       "                                    Long Description  \n",
       "0  One of the smallest, fastest, secure Web Brows...  "
      ]
     },
     "execution_count": 99,
     "metadata": {},
     "output_type": "execute_result"
    }
   ],
   "source": [
    "df.head(1)"
   ]
  },
  {
   "cell_type": "markdown",
   "id": "7d385725",
   "metadata": {},
   "source": [
    "##### checking with value counts for data spread"
   ]
  },
  {
   "cell_type": "code",
   "execution_count": 109,
   "id": "c8777ad5",
   "metadata": {},
   "outputs": [
    {
     "data": {
      "text/plain": [
       "2088"
      ]
     },
     "execution_count": 109,
     "metadata": {},
     "output_type": "execute_result"
    }
   ],
   "source": [
    "len(df[\"ID\"].value_counts())\n"
   ]
  },
  {
   "cell_type": "code",
   "execution_count": 156,
   "id": "8731b880",
   "metadata": {},
   "outputs": [
    {
     "data": {
      "text/plain": [
       "fast browser                    118\n",
       "ad free browser                  93\n",
       "android browser                  91\n",
       "best privacy browsers            89\n",
       "browser                          84\n",
       "privacy browser                  74\n",
       "privacy browsers for android     64\n",
       "Name: Keyword, dtype: int64"
      ]
     },
     "execution_count": 156,
     "metadata": {},
     "output_type": "execute_result"
    }
   ],
   "source": [
    "df[\"Keyword\"].value_counts()"
   ]
  },
  {
   "cell_type": "code",
   "execution_count": 155,
   "id": "ff20a55a",
   "metadata": {
    "collapsed": true
   },
   "outputs": [
    {
     "data": {
      "text/plain": [
       "2.0      23\n",
       "5.0      23\n",
       "4.0      20\n",
       "7.0      20\n",
       "6.0      20\n",
       "8.0      19\n",
       "3.0      19\n",
       "1.0      17\n",
       "14.0     17\n",
       "10.0     17\n",
       "9.0      16\n",
       "11.0     13\n",
       "12.0     11\n",
       "13.0     10\n",
       "15.0      9\n",
       "20.0      9\n",
       "16.0      8\n",
       "17.0      8\n",
       "24.0      8\n",
       "26.0      7\n",
       "18.0      7\n",
       "28.0      7\n",
       "21.0      6\n",
       "23.0      6\n",
       "42.0      6\n",
       "22.0      6\n",
       "29.0      6\n",
       "27.0      6\n",
       "34.0      6\n",
       "19.0      6\n",
       "39.0      6\n",
       "31.0      6\n",
       "40.0      6\n",
       "105.0     5\n",
       "52.0      5\n",
       "38.0      5\n",
       "30.0      5\n",
       "43.0      5\n",
       "44.0      5\n",
       "48.0      5\n",
       "81.0      4\n",
       "53.0      4\n",
       "36.0      4\n",
       "89.0      4\n",
       "67.0      4\n",
       "79.0      4\n",
       "51.0      4\n",
       "32.0      4\n",
       "35.0      4\n",
       "25.0      4\n",
       "78.0      4\n",
       "33.0      4\n",
       "69.0      4\n",
       "60.0      4\n",
       "58.0      4\n",
       "65.0      4\n",
       "50.0      4\n",
       "54.0      3\n",
       "68.0      3\n",
       "73.0      3\n",
       "94.0      3\n",
       "61.0      3\n",
       "97.0      3\n",
       "100.0     3\n",
       "107.0     3\n",
       "83.0      3\n",
       "106.0     3\n",
       "87.0      3\n",
       "86.0      3\n",
       "104.0     3\n",
       "90.0      3\n",
       "75.0      3\n",
       "71.0      3\n",
       "96.0      3\n",
       "74.0      3\n",
       "82.0      3\n",
       "109.0     3\n",
       "55.0      3\n",
       "63.0      3\n",
       "37.0      3\n",
       "59.0      3\n",
       "57.0      3\n",
       "45.0      3\n",
       "116.0     2\n",
       "56.0      2\n",
       "101.0     2\n",
       "117.0     2\n",
       "103.0     2\n",
       "41.0      2\n",
       "102.0     2\n",
       "91.0      2\n",
       "108.0     2\n",
       "84.0      2\n",
       "98.0      2\n",
       "76.0      2\n",
       "77.0      2\n",
       "46.0      2\n",
       "92.0      2\n",
       "80.0      2\n",
       "70.0      2\n",
       "93.0      2\n",
       "119.0     1\n",
       "118.0     1\n",
       "134.0     1\n",
       "113.0     1\n",
       "62.0      1\n",
       "85.0      1\n",
       "66.0      1\n",
       "114.0     1\n",
       "47.0      1\n",
       "95.0      1\n",
       "111.0     1\n",
       "112.0     1\n",
       "64.0      1\n",
       "72.0      1\n",
       "88.0      1\n",
       "99.0      1\n",
       "110.0     1\n",
       "115.0     1\n",
       "Name: Rank, dtype: int64"
      ]
     },
     "execution_count": 155,
     "metadata": {},
     "output_type": "execute_result"
    }
   ],
   "source": [
    "(df[\"Rank\"].value_counts())"
   ]
  },
  {
   "cell_type": "code",
   "execution_count": 6,
   "id": "ccc7388b",
   "metadata": {},
   "outputs": [
    {
     "data": {
      "text/plain": [
       "com.duckduckgo.mobile.android    740\n",
       "com.cloudmosa.puffinTV           608\n",
       "com.brave.browser                370\n",
       "com.vivaldi.browser              370\n",
       "com.transsion.phoenix            370\n",
       "com.opera.browser                304\n",
       "net.fast.web.browser             152\n",
       "com.android.chrome               152\n",
       "Name: App ID, dtype: int64"
      ]
     },
     "execution_count": 6,
     "metadata": {},
     "output_type": "execute_result"
    }
   ],
   "source": [
    "df[\"App ID\"].value_counts()"
   ]
  },
  {
   "cell_type": "code",
   "execution_count": 153,
   "id": "c61a54de",
   "metadata": {},
   "outputs": [
    {
     "data": {
      "text/plain": [
       "Fast &amp; private web browser with ad blocker, sync, dark &amp; private mode.          198\n",
       "Funny video, Football &amp; celebrity news, Fast &amp; data-saving browser.             125\n",
       "Browse the web privately, search anonymously, and escape ad trackers.                    82\n",
       "Puffin TV Browser - One App to Watch All Videos on the Web                               42\n",
       "Puffin TV Browser - One App to Watch All Videos on the Web.                              42\n",
       "Fast, safe web browser: free VPN, Ad blocker, QR-code reader &amp; personalized news     38\n",
       "Free, safe internet browser! Private browsing, search engine &amp; pop-up blocker.       33\n",
       "Fast, simple, and secure. Google Chrome browser for Android phones and tablets.          30\n",
       "The small, fastest, secure Web Browser, best mobile browser, fast search Google.         23\n",
       "Name: Short Description, dtype: int64"
      ]
     },
     "execution_count": 153,
     "metadata": {},
     "output_type": "execute_result"
    }
   ],
   "source": [
    "df[\"Short Description\"].value_counts()"
   ]
  },
  {
   "cell_type": "code",
   "execution_count": 152,
   "id": "cfb567ce",
   "metadata": {
    "collapsed": true
   },
   "outputs": [
    {
     "data": {
      "text/plain": [
       "Vivaldi is a new private web browser with an integrated ad blocker, tracking protection, and useful built-in features. Browse with unique desktop-style tabs, end-to-end encrypted sync, dark & private mode. Download for free and browse fast, take notes in the browser, and capture full-length screenshots.\\r\\n\\r\\n⛔️ Block ads and trackers\\r\\nBlock ads and stop trackers from following you around the web to browse more privately and securely. Keep privacy ahead and say goodbye to annoying video ads, pop ups, and creepy trackers while browsing with Vivaldi.\\r\\n\\r\\nPlay with a flexible user interface\\r\\nGive your browser a look that's uniquely yours with Vivaldi’s flexible user interface (UI). Browse with dark/light modes using new desktop-style tabs, and keep go-to tools within easy reach.\\r\\n\\r\\n🕵️‍♂️ Private browsing\\r\\nKeep your browsing history discreet using incognito private tabs – searches, sites visited, cookies and temporary files won't be stored by Vivaldi. \\r\\n\\r\\n🛠 Manage tabs with ease\\r\\nQuickly swipe to find open tabs, private incognito tabs and tabs you’ve recently closed in the browser or have open on another synced device. \\r\\n\\r\\n🔄 Bring your data with you\\r\\nSecurely sync your passwords, Bookmarks, Notes and keep your browsing data private between devices using end-to-end encryption with own servers in Iceland.\\r\\n\\r\\n🏃‍♀️ Get there faster\\r\\nKeep your favorite sites just a tap away and browse faster by adding custom Speed Dials to the new tab page.\\r\\n\\r\\n📝 Take notes\\r\\nJot down ideas by creating Notes as you browse the web and sync them securely between your devices.\\r\\n\\r\\n📸 Snap screenshots\\r\\nCapture a full-length screenshot of any website or take a snap of the visible area of any webpage while browsing. Share away. \\r\\n\\r\\n🔎 Switch search engines instantly\\r\\nUse search engine nicknames to quickly swap search engines while typing in Vivaldi’s Address Field. For example, type \"d\" to select DuckDuckGo or \"w\" for Wikipedia.\\r\\n\\r\\n🕹 Have fun and play Vivaldia\\r\\nVivaldia is a real 80s-style arcade runner game built into the Vivaldi browser. Play it both online and offline on your mobile and desktop. Includes gamepad support.\\r\\n\\r\\nVivaldi Browser features\\r\\n• Free Private Browser\\r\\n• Encrypted sync\\r\\n• Ad blocker\\r\\n• Screen capture\\r\\n• Speed dial shortcuts for favorites\\r\\n• Notes with rich text support\\r\\n• Private tabs\\r\\n• Dark mode\\r\\n• Bookmarks manager\\r\\n• Recently closed tabs\\r\\n• Search engine nicknames\\r\\n• Reader mode\\r\\n• Clone tab\\r\\n• Downloads manager\\r\\n\\r\\nDownload for free and browse faster with the new Vivaldi web browser. Leave a review about the browser and its features and let us know what you think. \\r\\n\\r\\nAbout Vivaldi Web Browser\\r\\nWe believe that many people want to customize and tweak every square inch of their web browser to make it their own. They want to access useful tools without sacrificing speed, privacy or security. And they want to be heard.\\r\\n\\r\\nThat's why we’re building a browser that is fast, powerful and flexible. A browser that respects your privacy and does not track you. A browser that adapts to you, not the other way around. \\r\\n\\r\\nVivaldi web browser is also available for free on desktops running Windows, macOS, and Linux. \\r\\n\\r\\nLearn more about Vivaldi browser and our mission by visiting https://vivaldi.com                                                                                                                                                                                                                                                                                                                                                                                                                                                                                                                                                                                                                                                                                                                                                198\n",
       "Phoenix Browser is a fast, safe web browser for your Android device, featuring a local news feed and FREE movie resources.\\r\\n\\r\\n✪Main features✪\\r\\n\\r\\nPhoenix browser loads your webpages 2x faster, Saves 90% of your data and enables smooth browsing on slow networks, Downloads all-format videos and social media clips at lightning speed. \\r\\n\\r\\n★Fast Browsing and Downloads: Access websites, download multiple files (videos, audio, documents and more) with the speed of light. Download online videos easily from lots of websites: Facebook、Instagram and etc.\\r\\n\\r\\n★Smart Video Downloader and Video Player: Automatically detects videos from any website for you to download in one click. Optimized video player for the best watching experience.\\r\\n\\r\\n★WhatsApp Status Saver plugin: Save your friends whatsapp status easily and safely.\\r\\n\\r\\n★Powerful File Manager\\r\\nEasily WhatsApp status saving and powerful file manager. Support more than 50 file formats, such as word, excel, ppt, pdf, etc. \\r\\n\\r\\n★Ad Block: Block annoying adverts and popups, save time and increase loading speed.\\r\\n\\r\\n★Data Saver: Stream movies, download files, browse more with less data on any website.\\r\\n \\r\\nFeatures:\\r\\n★Super Downloader\\r\\nPhoenix Browser can automatically detect downloadable videos with the smart detection function while you browse the web, which allows you to download and save online videos from almost every website. You can also download through BitTorrent and Magnet. With a download icon in the website, Phoenix Browser will inform the user whether there are online videos that the user can download or not. It’s very simple to download videos by using the smart download function. (!!!Download on YouTube is not available due to the policy of Google!!!)\\r\\n  \\r\\n★Incognito Browsing\\r\\nIncognito tab makes your browsing experience perfectly private without leaving any history, cookies, cache, etc. \\r\\n \\r\\n★Ad Block\\r\\nAd Block blocks various forms of annoying ads, pop-ups and banners to make your browsing comfortable. It not only speeds up the page loading speed but also reduces Internet data usage.\\r\\n \\r\\n★Bookmarks/History\\r\\nBookmarks help save your favorite websites and provide quick navigation for revisiting later on. History list helps with recollection. Both will save you time looking for your favorite websites.\\r\\n \\r\\n★Data Saving\\r\\nPhoenix Browser could compress data, speed up navigation and help you save a lot of cellular data traffic. \\r\\n \\r\\n★Add To Shortcut\\r\\nAdd your favorite websites like Facebook, Twitter, Instagram, YouTube, Amazon, Wikipedia, etc., for quick access.\\r\\n  \\r\\n★Built-in Video Player\\r\\nThe built-in video player provides a one-stop service from video downloading to video playing. You can watch videos directly without exiting the app.\\r\\n \\r\\n★Search Engines\\r\\nSwitch search engines according to your preference. We support Google, Yahoo, Ask, Yandex, AOL, DuckDuckGo and Bing.\\r\\n \\r\\n★Multi-Tab Manager\\r\\nEasy switching of pages from multiple websites. Using multi-tab manager will make your browsing experience smoother.\\r\\n \\r\\n★No Image Mode\\r\\nNo Image Mode disables image and video loading to save data on a poor network connection.\\r\\n \\r\\n★Night/Bright Mode\\r\\nNight Mode protects your eyes when browsing in darkness. Bright mode prevents the screen from going dark.\\r\\n \\r\\n★Switch to PC Website\\r\\nSupport cross-device browsing, i.e. from mobile to PC browser mode.\\r\\n  \\r\\n★Find in Page/Translate\\r\\nSearch to find whatever you need in website pages, and translation function is supported.\\r\\n \\r\\nFacebook Fan Page\\r\\nhttps://www.facebook.com/PhoenixBrowser/                                                                                                                                                                                                                                                                                                                                                                                                                                    125\n",
       "Tired of being tracked online? We can help. At DuckDuckGo, we believe online privacy should be simple.\\r\\n\\r\\nDuckDuckGo Privacy Browser has the speed you need, the browsing features you expect (like tabs & bookmarks), and comes packed with best-in-class privacy essentials:\\r\\n\\r\\nTap Fire Button, Burn Data — clear all your tabs and browsing data with one tap. \\r\\n\\r\\nEscape Online Tracking — automatically block hidden third-party trackers we can find lurking on websites you visit, which stops the companies behind those trackers from collecting and selling your data. \\r\\n\\r\\nSearch Privately — our private search engine comes built-in so you can search the Internet without being tracked.\\r\\n\\r\\nEnforce Encryption — force sites to use an encrypted (HTTPS) connection where available, protecting your data from prying eyes, like from unwanted snoopers and Internet service providers.\\r\\n\\r\\nDecode Privacy — each site you visit gets a Privacy Grade (A-F) so you can see how protected you are at a glance, and you can even dig into the details to see who we caught trying to track you. \\r\\n\\r\\nSignal Your Privacy Preference with GPC — with Global Privacy Control (GPC) built in, you'll invoke your legal privacy rights (e.g., under CCPA, GDPR) by telling websites not to sell or share your personal data by default.\\r\\n\\r\\nPrivacy, simplified.\\r\\n\\r\\nAbout Us: https://duckduckgo.com/about/\\r\\nDevice Privacy: https://spreadprivacy.com/tag/device-privacy-tips/ \\r\\nPrivacy Newsletter: https://duckduckgo.com/newsletter \\r\\nPrivacy Policy: https://duckduckgo.com/privacy/\\r\\nOpen Source: https://github.com/duckduckgo/Android                                                                                                                                                                                                                                                                                                                                                                                                                                                                                                                                                                                                                                                                                                                                                                                                                                                                                                                                                                                                                                                                                                                                                                                                                                                                                                                                                                                                                                                                                                                                                                                                                                                                                                                                                                                                                                                                                                                                                                                                                                                                                                                                                                                                                                                                                                                                                                                                                                                                                                                                 41\n",
       "Tired of being tracked online? We can help. At DuckDuckGo, we believe online privacy should be simple.\\r\\n\\r\\nDuckDuckGo Privacy Browser has the speed you need, the browsing features you expect (like tabs & bookmarks), and comes packed with best-in-class privacy essentials:\\r\\n\\r\\nTap Fire Button, Burn Data — clear all your tabs and browsing data with one tap. \\r\\n\\r\\nEscape Online Tracking — automatically block hidden third-party trackers we can find lurking on websites you visit, which stops the companies behind those trackers from collecting and selling your data. \\r\\n\\r\\nSearch Privately — our private search engine comes built-in so you can search the Internet without being tracked.\\r\\n\\r\\nEnforce Encryption — force sites to use an encrypted (HTTPS) connection where available, protecting your data from prying eyes, like from unwanted snoopers and Internet service providers.\\r\\n\\r\\nDecode Privacy — each site you visit gets a Privacy Grade (A-F) so you can see how protected you are at a glance, and you can even dig into the details to see who we caught trying to track you. \\r\\n\\r\\nPrivacy, simplified.\\r\\n\\r\\nAbout Us: https://duckduckgo.com/about/\\r\\nDevice Privacy: https://spreadprivacy.com/tag/device-privacy-tips/ \\r\\nPrivacy Newsletter: https://duckduckgo.com/newsletter \\r\\nPrivacy Policy: https://duckduckgo.com/privacy/\\r\\nOpen Source: https://github.com/duckduckgo/Android                                                                                                                                                                                                                                                                                                                                                                                                                                                                                                                                                                                                                                                                                                                                                                                                                                                                                                                                                                                                                                                                                                                                                                                                                                                                                                                                                                                                                                                                                                                                                                                                                                                                                                                                                                                                                                                                                                                                                                                                                                                                                                                                                                                                                                                                                                                                                                                                                                                                                                                                                                                                                                                                                                                                                                       41\n",
       "Privately browse the internet, for free! The Brave Private Browser App is your fast, free, and safe private web browser with ad blocker and pop-up blocker. Privately browse and search the internet without being tracked by advertisers, malware and pop-ups. \\r\\n\\r\\nDownload the best AdBlock privacy web browser app for Android today!\\r\\n\\r\\n🔒 Fast & Secure Web Browser\\r\\nNo external plugins or settings! Brave privacy browser simply provides the most secure, lightning fast web internet browser for Android. Enjoy free private browsing and a private search engine without popups (pop up blocker), ads (ad blocker), malware and other annoyances. \\r\\n\\r\\n🙈 Private Browsing App\\r\\nEnjoy fast, secure, private browsing. Get free adblocker to block ads, anonymous browsing history, personalized private search, and private tabs for private browsing.\\r\\n\\r\\n🚀 Browse Faster\\r\\nBrave is a fast web browser! Brave reduces page loading times, improves web browser performance and blocks ads infected with malware. Brave Privacy App shows a 2x to 4x speed increase on Android, saving your battery and data. \\r\\n\\r\\n🚫 AdBlock Web Browser\\r\\nThe Brave Private Browser App is designed with a free built-in AdBlocker (pop up blocker). Brave's free adBlocker protects you from ads which track you as you browse the mobile web, securing your privacy and private browsing history.  \\r\\n\\r\\n🙈 Automatic Privacy - AdBlock Browser Protection\\r\\nThe Brave Private Browser App also protects you with leading privacy and security features such as HTTPS Everywhere (encrypted data traffic), script blocking, 3rd party cookie blocking and incognito private tabs.\\r\\n\\r\\nApp Features\\r\\n* Free private internet browser\\r\\n* Free built-in AdBlocker\\r\\n* Private internet browser with pop up blocker (blocks ads)\\r\\n* Safe private browsing\\r\\n* Saves data and battery \\r\\n* Invasive Ad free web browser\\r\\n* Sync Bookmarks securely\\r\\n* Free tracking protection web browser\\r\\n* Https Everywhere (for security)\\r\\n* Script Blocker\\r\\n* 3rd party cookie blocker\\r\\n* Private bookmarks \\r\\n* Browsing history\\r\\n* Recent and private tabs\\r\\n* Fast, free, private search engine using DuckDuckGo\\r\\n\\r\\nBrave Rewards\\r\\nWith your old web browser, you paid to browse the internet by viewing ads. Now, Brave welcomes you to the new internet. One where your time is valued, your personal data is kept private, and you actually get paid for your attention.\\r\\n\\r\\nAbout Brave\\r\\nOur mission is to save the web by making a safe, private and fast browser while growing ad revenue for content creators. Brave aims to transform the online ad ecosystem with micropayments and a new revenue-sharing solution to give users and publishers a better deal, where safe, fast browsing is the path to a brighter future for an open web.\\r\\n\\r\\nTo learn more about the Brave Privacy Browser App, which has a built-in 3rd party Ad Block and pop up blocker, plus tracking and security protection, please go to www.brave.com\\r\\n\\r\\nQuestions/support?\\r\\nContact us at community.brave.com/c/support-and-troubleshooting/mobile-support. We love hearing from you.\\r\\n\\r\\nAre you enjoying our fast, private internet browser? Please leave us a 5 star review! \\r\\n\\r\\nDownload the best privacy browser for Android today!                                                                                                                                                                                                                                                                                                                                                                                                                                                                                                                                                                                                                                                                                                                                                                                                                                     33\n",
       "Google Chrome is a fast, easy to use, and secure web browser. Designed for Android, Chrome brings you personalized news articles, quick links to your favorite sites, downloads, and Google Search and Google Translate built-in. Download now to enjoy the same Chrome web browser experience you love across all your devices.\\r\\n        \\r\\n        Browse fast and type less. Choose from personalized search results that instantly appear as you type and quickly browse previously visited web pages. Fill in forms quickly with Autofill.\\r\\n        \\r\\n        Incognito Browsing. Use Incognito mode to browse the internet without saving your history. Browse privately across all your devices.\\r\\n        \\r\\n        Sync Chrome Across Devices. When you sign into Chrome, your bookmarks, passwords, and settings will be automatically synced across all your devices. You can seamlessly access all your information from your phone, tablet, or laptop.\\r\\n        \\r\\n        All your favorite content, one tap away. Chrome is not just fast for Google Search, but designed so you are one tap away from all your favorite content. You can tap on your favorite news sites or social media directly from the new tab page. Chrome also has the “Tap to Search”- feature on most webpages. You can tap on any word or phrase to start a Google search while still in the page you are enjoying.\\r\\n        \\r\\n        Protect your phone with Google Safe Browsing. Chrome has Google Safe Browsing built-in. It keeps your phone safe by showing warnings to you when you attempt to navigate to dangerous sites or download dangerous files.\\r\\n        \\r\\n        Fast downloads and view web pages and videos offline Chrome has a dedicated download button, so you can easily download videos, pictures, and entire webpages with just one tap. Chrome also has downloads home right inside Chrome, where you can access all the content you downloaded, even when you are offline.\\r\\n        \\r\\n        Google Voice Search. Chrome gives you an actual web browser you can talk to. Use your voice to find answers on-the-go without typing and go hands free. You can browse and navigate quicker using your voice anywhere, anytime.\\r\\n        \\r\\n        Google Translate built-in: Quickly translate entire web pages. Chrome has Google Translate built in to help you to translate entire web to your own language with one tap.\\r\\n        \\r\\n        Use less mobile data and speed up the web. Turn on Lite mode and use up to 60% less data. Chrome can compress text, images, videos, and websites without lowering the quality.\\r\\n        \\r\\n        Smart personalized recommendations. Chrome creates an experience that is tailored to your interests.  On the new tab page, you will find articles that Chrome selected based on your previous browsing history.                                                                                                                                                                                                                                                                                                                                                                                                                                                                                                                                                                                                                                                                                                                                                                                                                                                                                                                                                                                                                                                                                                                                                                                                                                                                                                     30\n",
       "One of the smallest, fastest, secure Web Browser; \\r\\nIt is specifically designed for mobile phones and tablet, brings you an amazing Premium web experience.\\r\\n\\r\\nIt is based off the Android WebKit Engine.\\r\\n\\r\\nKey Features:\\r\\n- Tabbed Internet Browsing\\r\\n- Incognito Mode. Private browse the web without saving any browser history.\\r\\n- Supports Adobe Flash Player \\r\\n- The fastest Start Times: View web pages quicker on your phone\\r\\n- Block Ads\\r\\n- Homepage: Add favorite links to your homepage with a single click and access sites easily from your mobile desktop;\\r\\n- Bookmarks\\r\\n- History\\r\\n- Find in Page\\r\\n- Super easy copy/paste\\r\\n- Small Footprint\\r\\n- Full-screen mode\\r\\n- Quick search: most popular default search engines\\r\\n- User Agent settings\\r\\n- Advanced Gesture feature\\r\\n- Sharing - Super-easy and intuitive ways to share mobile contents through social media channels.\\r\\n- Advanced Settings\\r\\n- Uses the Native JavaScript and WebKit Engine so file size is smaller\\r\\n- Custom download location\\r\\n\\r\\nIt is a high-performance small-sized Internet browser built for those who don't want the cumbersome size of other Browser. \\r\\nWeb Browser with the latest security and privacy features to help you stay safe on the internet.\\r\\nWe wish you can have the best web surfing experience for using Web Browser.                                                                                                                                                                                                                                                                                                                                                                                                                                                                                                                                                                                                                                                                                                                                                                                                                                                                                                                                                                                                                                                                                                                                                                                                                                                                                                                                                                                                                                                                                                                                                                                                                                                                                                                                                                                                                                                                                                                                                                                                                                                                                                                                                                                                                                                                                                                                                                                                                                                                                                                                                                                                                                                                                                                                                                                                                                     23\n",
       "Puffin TV Browser is a special edition of Puffin Web Browser optimized for the Android TV. For light users, it is absolutely free. For heavy users, it requires subscription through In-App-Purchase.\\r\\n\\r\\nPC users can watch all videos from the web browser on their PC. Why do we need to install one video app for each video channel on Android TV? What if we can have a web browser optimized for the Android TV?\\r\\n\\r\\nPuffin TV Browser removes the traditional web browser UI for a fully immersed Android TV experience. Furthermore, Puffin TV Chabot allows users to interact with their Puffin TV via Facebook Messenger.\\r\\n\\r\\n☆ Incredible page load and rendering speed\\r\\n☆ Optimized video playback\\r\\n☆ Intuitive app navigation design\\r\\n☆ Sharing pages to Puffin TV Browser from any devices\\r\\n☆ Full web experience\\r\\n☆ Fastest JavaScript engine\\r\\n\\r\\n===== In-app purchase =====\\r\\n* The service is provided with limited free usage quota everyday.\\r\\n* Users can pay for unlimited usage quota with in-app purchase.\\r\\n\\r\\n===== Limitations =====\\r\\n* The data centers of Puffin are in the US and the cloud servers can only access public web sites from US geolocations.\\r\\n* For users outside the US, local contents, especially videos of local interest, may not be accessible from the US due to geo-restrictions in their home countries.\\r\\n* Puffin is blocked in some countries (e.g., China, Saudi Arabia, United Arab Emirates) and by some schools (e.g., in United States).                                                                                                                                                                                                                                                                                                                                                                                                                                                                                                                                                                                                                                                                                                                                                                                                                                                                                                                                                                                                                                                                                                                                                                                                                                                                                                                                                                                                                                                                                                                                                                                                                                                                                                                                                                                                                                                                                                                                                                                                                                                                                                                                                                                                                                                                                                                                                                                                                                                                                                                                                                                                                                                                                           21\n",
       "Puffin TV Browser is a special edition of Puffin Web Browser optimized for the Android TV. For light users, it is absolutely free. For heavy users, it requires IAP.\\r\\n\\r\\nWhy we need to install one video app for each video channel on Android TV? PC users can watch all videos from any web browser on their PC. What if we can have a web browser optimized for the Android TV?\\r\\n\\r\\nPuffin TV Browser removes the traditional web browser UI for a fully immersed Android TV experience. Puffin UI is kept as subtle and intuitive as possible. For example, Puffin TV automatically recommends most popular sites for users. It has never been easier to share a page from your smart phone to Puffin TV Browser.\\r\\n\\r\\nFurthermore, Puffin TV chatbot allows you to interact with your Puffin TV browser via Facebook Messenger easily. It is intuitive, minimalist, and highly functional.\\r\\n\\r\\n☆ Incredible page load and rendering speed\\r\\n☆ Optimized video playback\\r\\n☆ Intuitive app navigation design\\r\\n☆ Sharing pages to Puffin TV Browser from any devices\\r\\n☆ Full web experience\\r\\n☆ Fastest JavaScript engine\\r\\n\\r\\n===== In-app purchase =====\\r\\n* The service is provided with limited free usage quota everyday.\\r\\n* Users can pay for unlimited usage quota with in-app purchase.\\r\\n\\r\\n===== Limitations =====\\r\\n* The data centers of Puffin are in the US and the cloud servers can only access public web sites from US geolocations.\\r\\n* For users outside the US, local contents, especially videos of local interest, may not be accessible from the US due to geo-restrictions in their home countries.\\r\\n* Puffin is blocked in some countries (e.g., China, Saudi Arabia, United Arab Emirates) and by some schools (e.g., in United States).                                                                                                                                                                                                                                                                                                                                                                                                                                                                                                                                                                                                                                                                                                                                                                                                                                                                                                                                                                                                                                                                                                                                                                                                                                                                                                                                                                                                                                                                                                                                                                                                                                                                                                                                                                                                                                                                                                                                                                                                                                                                                                                                                                                                                                                                                                                                                                                                                             21\n",
       "Puffin TV Browser is a special edition of Puffin Web Browser optimized for the Android TV.\\r\\n\\r\\nWhy we need to install one video app for each video channel on Android TV? PC users can watch all videos from any web browser on their PC. What if we can have a web browser optimized for the Android TV?\\r\\n\\r\\nPuffin TV Browser removes the traditional web browser UI for a fully immersed Android TV experience. Puffin UI is kept as subtle and intuitive as possible. For example, Puffin TV automatically recommends most popular sites for users. It has never been easier to share a page from your smart phone to Puffin TV Browser.\\r\\n\\r\\nFurthermore, Puffin TV chatbot allows you to interact with your Puffin TV browser via Facebook Messenger easily. It is intuitive, minimalist, and highly functional.\\r\\n\\r\\n☆ Incredible page load and rendering speed\\r\\n☆ Optimized video playback\\r\\n☆ Intuitive app navigation design\\r\\n☆ Sharing pages to Puffin TV Browser from any devices\\r\\n☆ Full web experience\\r\\n☆ Fastest JavaScript engine\\r\\n\\r\\n===== In-app purchase =====\\r\\n* The service is provided with limited free usage everyday.\\r\\n* Users may choose to unlock limited access via in-app purchase.\\r\\n\\r\\n===== Limitations =====\\r\\n* The data centers of Puffin are in the US and the cloud servers can only access public web sites from US geolocations.\\r\\n* For users outside the US, local contents, especially videos of local interest, may not be accessible from the US due to geo-restrictions in their home countries.\\r\\n* Puffin is blocked in some countries (e.g., China, Saudi Arabia, United Arab Emirates) and by some schools (e.g., in United States).                                                                                                                                                                                                                                                                                                                                                                                                                                                                                                                                                                                                                                                                                                                                                                                                                                                                                                                                                                                                                                                                                                                                                                                                                                                                                                                                                                                                                                                                                                                                                                                                                                                                                                                                                                                                                                                                                                                                                                                                                                                                                                                                                                                                                                                                                                                                                                                                                                                                                                            21\n",
       "Puffin TV Browser is a special edition of Puffin Web Browser optimized for the Android TV.\\r\\n\\r\\nWhy we need to install one video app for each video channel on Android TV? PC users can watch all videos from any web browser on their PC. What if we can have a web browser optimized for the Android TV?\\r\\n\\r\\nPuffin TV Browser removes the traditional web browser UI for a fully immersed Android TV experience. Puffin UI is kept as subtle and intuitive as possible. For example, Puffin TV automatically recommends most popular sites for users. It has never been easier to share a page from your smart phone to Puffin TV Browser.\\r\\n\\r\\n☆ Incredible page load and rendering speed\\r\\n☆ Optimized video playback\\r\\n☆ Intuitive app navigation design\\r\\n☆ Sharing pages to Puffin TV Browser from any devices\\r\\n☆ Full web experience\\r\\n☆ Fastest JavaScript engine\\r\\n\\r\\n===== In-app purchase =====\\r\\n* The service is provided with limited free usage everyday.\\r\\n* Users may choose to unlock limited access via in-app purchase.\\r\\n\\r\\n===== Limitations =====\\r\\n* The data centers of Puffin are in the US and the cloud servers can only access public web sites from US geolocations.\\r\\n* For users outside the US, local contents, especially videos of local interest, may not be accessible from the US due to geo-restrictions in their home countries.\\r\\n* Puffin is blocked in some countries (e.g., China, Saudi Arabia, United Arab Emirates) and by some schools (e.g., in United States).                                                                                                                                                                                                                                                                                                                                                                                                                                                                                                                                                                                                                                                                                                                                                                                                                                                                                                                                                                                                                                                                                                                                                                                                                                                                                                                                                                                                                                                                                                                                                                                                                                                                                                                                                                                                                                                                                                                                                                                                                                                                                                                                                                                                                                                                                                                                                                                                                                                                                                                                                                                                                                                                                        21\n",
       "Fast, safe and private, introducing the latest version of the Opera web browser made to make your life easier online. Featuring a built-in Ad Blocker and Free VPN with a clean and user-friendly design letting you get more done online, in less time. Download now and join over 350 million fans across the world using Opera.\\r\\n\\r\\n Ad blocker for safe & fast browsing \\r\\nOpera’s native ad blocker effectively helps you get rid of thousands of intrusive ads and loads your pages faster to streamline your browsing experience. Now, we have added the option to eliminate a vast majority of annoying cookie and privacy dialogs also. \\r\\n\\r\\nFree built-in VPN \\r\\nImprove your privacy and security on public networks with our built-in browser VPN. The unlimited and free VPN lets you avoid sharing your location and identity, staying anonymous and safe online. You can also switch to different virtual locations if needed for extra browser security. \\r\\n\\r\\nPrivate browser \\r\\nUse private tabs to go incognito anywhere on the Internet without leaving a trace on your device. Easily switch between normal and private browsing in the tab gallery.\\r\\n\\r\\nSave data and time\\r\\nOn a slow connection? Or want to save data? Switch to data saver mode to load pages faster than ever on slow networks. Powered by our famous compression technology, the Opera browser works hard to save up to of your data without breaking your browsing experience.\\r\\n\\r\\nPersonalized news feed \\r\\nPowered by our smartest AI news engine, the rebooted news feed allows you to swipe through a selection of personalized news channels within the browser, subscribe to your favorite topics, and save stories to read later.\\r\\n\\r\\nNight mode\\r\\nOpera’s night mode provides you adjustable lighting options to get the most comfortable reading experience in the dark and the least eye strain. Night mode is easily accessible from the main menu. \\r\\n\\r\\nManage your passwords and autofill credit cards\\r\\nOpt in for automatic saving of passwords site by site and safely autofill your payment information for safe and private online shopping. \\r\\n\\r\\nRead comfortably on any screen: \\r\\nThe Opera browser includes a text size setting which helps you adapt pages according to your reading preferences. More importantly, it works perfectly together with our automatic text wrap feature for an unparalleled reading experience.\\r\\n\\r\\nFlow - seamlessly connects all your devices: \\r\\nThe popular Flow feature lets the files, links or images that you share immediately appear on all your Flow-enabled devices, allowing you to seamlessly switch between your iPhone, Android phone, tablet and computer. Sync all your Opera accounts across Devices as well! \\r\\n\\r\\nAbout Opera\\r\\nFounded 1995 in Norway on the idea that everyone should be able to browse the web, we have spent the last +25 years helping millions of people access the internet in a safe, private and innovative way. We care about the internet, about open standards, and about people. \\r\\n\\r\\nTerms & Conditions:\\r\\nBy downloading this application, you are agreeing to the End User Licence Agreement at https://www.opera.com/eula/mobile.                                                                                                                                                                                                                                                                                                                                                                                                                                                                                                                                                                                                                                                                                                                                                                                                                                                                                                                                               19\n",
       "Opera is a fast, safe web browser for your Android device, featuring a rebooted news feed, built-in Ad blocker, free VPN and a QR & Barcode scanner. \\r\\n\\r\\n\\r\\n★ Top features ★ \\r\\n\\r\\n● Free, unlimited and built-in VPN: \\r\\n\\r\\nImprove your privacy and security with our built-in and free VPN. Turn on Opera VPN in the setting and your IP address will be replaced with a virtual one to help you avoid unintended location and identification information sharing. You can also switch to different virtual locations.\\r\\n\\r\\n● Block ads for faster browsing: \\r\\n\\r\\nOpera’s native ad blocker effectively helps you get rid of intrusive ads and loads your pages faster to streamline your browsing experience.  Now, we have added the option to eliminate a vast majority of annoying cookie and privacy dialogs. \\r\\n\\r\\n● Flow - seamlessly connects all your devices: \\r\\n\\r\\nThe popular Flow feature lets the files, links or images that you share immediately appear on all your Flow-enabled devices, allowing you to seamlessly switch between your iPhone, Android phone, tablet and computer.\\r\\n\\r\\n● Built-in QR & Barcode scanner: \\r\\n\\r\\nEasily access the built-in QR & barcode scanner. Simply tap the search bar and the scanner is available on the right side. Point the camera at any QR-code/barcode, and it will be scanned automatically.\\r\\n\\r\\n● Personalized news feed: \\r\\n\\r\\nPowered by our smartest AI news engine, the rebooted news feed allows you to swipe through a selection of personalized news channels within the browser, subscribe to your favorite topics, and save stories to read later.\\r\\n\\r\\n● Night mode:\\r\\n\\r\\nOpera’s night mode provides you adjustable lighting options to get the most comfortable reading experience in the dark and the least eye strain. Night mode is easily accessible from the main menu. \\r\\n\\r\\n● Manage passwords and autofill credit cards:\\r\\n\\r\\nOpt in for automatic saving of passwords site by site and safely autofill your payment information for online shopping. \\r\\n\\r\\n● Private browsing: \\r\\n\\r\\nUse private tabs to go incognito anywhere on the Internet without leaving a trace on your device. Easily switch between private and normal browsing in the tab gallery.\\r\\n\\r\\n● Read comfortably on any screen: \\r\\n\\r\\nThe Opera browser includes a text size setting which helps you adapt pages according to your reading preferences. More importantly, it works perfectly together with our automatic text wrap feature for an unparalleled reading experience.\\r\\n\\r\\n● Manage downloads easily: \\r\\n\\r\\nOur new download manager makes downloading files easier and faster than ever! You can easily sort and share each downloaded item, delete them from your phone or remove them from your list of downloads with a quick swipe to the right or left side.  We even support background downloading when you have a download running but need to open another application!\\r\\n\\r\\n● Home screen shortcuts:\\r\\n\\r\\nAvailable on Android versions 7.1 or later, Opera offers fast access from the home screen to search, open a new private tab or scan QR codes. To create your own home screen shortcut, long tap on the Opera icon in your device’s home screen and tap your desired function. \\r\\n\\r\\n● Sync your Opera devices: \\r\\n\\r\\nGive yourself access to all your bookmarks, Speed Dial shortcuts and open tabs from your other devices with Opera. Opera on Android can now easily sync with the Opera browser for computers.\\r\\n\\r\\n● Browser startup options:\\r\\n\\r\\nEveryone is individual, so we let you choose whether to always open the browser with a new tab or to continue browsing where you left off, and to choose to close or preserve your open tabs when you exit the browser.\\r\\n\\r\\nOpera may show ads from Facebook. To learn more, see: https://m.facebook.com/ads/ad_choices\\r\\n\\r\\nTerms & Conditions:\\r\\nBy downloading this application, you are agreeing to the End User Licence Agreement at https://www.opera.com/eula/mobile. Also, you can learn how Opera handles and protects your data in our Privacy Statement at https://www.opera.com/privacy.     19\n",
       "Name: Long Description, dtype: int64"
      ]
     },
     "execution_count": 152,
     "metadata": {},
     "output_type": "execute_result"
    }
   ],
   "source": [
    "df[\"Long Description\"].value_counts()"
   ]
  },
  {
   "cell_type": "code",
   "execution_count": 128,
   "id": "0e6dc333",
   "metadata": {},
   "outputs": [
    {
     "data": {
      "text/plain": [
       "in    3066\n",
       "Name: Country, dtype: int64"
      ]
     },
     "execution_count": 128,
     "metadata": {},
     "output_type": "execute_result"
    }
   ],
   "source": [
    "df[\"Country\"].value_counts()"
   ]
  },
  {
   "cell_type": "code",
   "execution_count": 129,
   "id": "d92292be",
   "metadata": {},
   "outputs": [
    {
     "data": {
      "text/plain": [
       "en    3066\n",
       "Name: Language, dtype: int64"
      ]
     },
     "execution_count": 129,
     "metadata": {},
     "output_type": "execute_result"
    }
   ],
   "source": [
    "df[\"Language\"].value_counts()"
   ]
  },
  {
   "cell_type": "code",
   "execution_count": 131,
   "id": "d440a16e",
   "metadata": {},
   "outputs": [
    {
     "data": {
      "text/plain": [
       "76"
      ]
     },
     "execution_count": 131,
     "metadata": {},
     "output_type": "execute_result"
    }
   ],
   "source": [
    "len(df[\"Date\"].value_counts())"
   ]
  },
  {
   "cell_type": "code",
   "execution_count": 132,
   "id": "6110c118",
   "metadata": {},
   "outputs": [
    {
     "data": {
      "text/plain": [
       "6"
      ]
     },
     "execution_count": 132,
     "metadata": {},
     "output_type": "execute_result"
    }
   ],
   "source": [
    "len(df[\"Date of Last Description Change\"].value_counts())"
   ]
  },
  {
   "cell_type": "markdown",
   "id": "4cf7b5dd",
   "metadata": {},
   "source": [
    "### Note that We have :\n",
    "- 13 unique Long description\n",
    "- 9 unique short description\n",
    "- 8 unique App ID\n",
    "- 119 different ranks with highly biased towards the first 15 ranks\n",
    "- 7 unique keyword\n",
    "- Interestingly 2088 unique ID's are found. Now since ID has no importance in understanding the data, Im gonna remove it.\n",
    "- Also we remove other columns which has no significance to our problem statement from theory.\n",
    "- Eg: country, Language is same, Dates have no signifucance either way for ranking.\n",
    "- Now we check for duplicates in data."
   ]
  },
  {
   "cell_type": "code",
   "execution_count": 145,
   "id": "654a6e0c",
   "metadata": {},
   "outputs": [],
   "source": [
    "df.drop([\"ID\",\"Date\",\"Date of Last Description Change\",\"Language\",\"Country\" ], axis=1, inplace = True)"
   ]
  },
  {
   "cell_type": "code",
   "execution_count": 146,
   "id": "fb97f57d",
   "metadata": {},
   "outputs": [
    {
     "data": {
      "text/plain": [
       "2453"
      ]
     },
     "execution_count": 146,
     "metadata": {},
     "output_type": "execute_result"
    }
   ],
   "source": [
    "duplicate = df[df.duplicated()]\n",
    "len(duplicate) "
   ]
  },
  {
   "cell_type": "markdown",
   "id": "3526bccc",
   "metadata": {},
   "source": [
    "- We can notice here that 2453 of the rows are just duplicates and has no significance on their presence to understand the ranking for ASO.\n",
    "- So it shall be removed."
   ]
  },
  {
   "cell_type": "code",
   "execution_count": 149,
   "id": "47616f80",
   "metadata": {},
   "outputs": [],
   "source": [
    "df = df.drop_duplicates()"
   ]
  },
  {
   "cell_type": "code",
   "execution_count": 150,
   "id": "5ab77c1f",
   "metadata": {},
   "outputs": [
    {
     "data": {
      "text/plain": [
       "613"
      ]
     },
     "execution_count": 150,
     "metadata": {},
     "output_type": "execute_result"
    }
   ],
   "source": [
    "len(df) # We will work on this 613 data for understanding our ranking factor."
   ]
  },
  {
   "cell_type": "code",
   "execution_count": 51,
   "id": "97087ed5",
   "metadata": {
    "scrolled": true
   },
   "outputs": [
    {
     "name": "stdout",
     "output_type": "stream",
     "text": [
      "['Keyword' 'Rank' 'App ID' 'Short Description' 'Long Description']\n"
     ]
    }
   ],
   "source": [
    "print(df.columns.values)"
   ]
  },
  {
   "cell_type": "code",
   "execution_count": 157,
   "id": "cf6e00ab",
   "metadata": {},
   "outputs": [],
   "source": [
    "# Im going to save it into a csv for my easiness to view data.\n",
    "#df.to_csv(\"A:\\\\Next Labs test\\\\preprocessed_browser_data.csv\")"
   ]
  },
  {
   "cell_type": "code",
   "execution_count": 107,
   "id": "e9beeecc",
   "metadata": {},
   "outputs": [],
   "source": [
    "df = pd.read_csv(\"A:\\\\Next Labs test\\\\preprocessed_browser_data.csv\",index_col = \"Index\")"
   ]
  },
  {
   "cell_type": "code",
   "execution_count": 14,
   "id": "0a241ece",
   "metadata": {},
   "outputs": [
    {
     "name": "stdout",
     "output_type": "stream",
     "text": [
      "<class 'pandas.core.frame.DataFrame'>\n",
      "Int64Index: 613 entries, 0 to 3058\n",
      "Data columns (total 5 columns):\n",
      " #   Column             Non-Null Count  Dtype  \n",
      "---  ------             --------------  -----  \n",
      " 0   Keyword            613 non-null    object \n",
      " 1   Rank               609 non-null    float64\n",
      " 2   App ID             613 non-null    object \n",
      " 3   Short Description  613 non-null    object \n",
      " 4   Long Description   613 non-null    object \n",
      "dtypes: float64(1), object(4)\n",
      "memory usage: 28.7+ KB\n"
     ]
    }
   ],
   "source": [
    "df.info()"
   ]
  },
  {
   "cell_type": "code",
   "execution_count": 15,
   "id": "cabda47a",
   "metadata": {},
   "outputs": [
    {
     "data": {
      "text/plain": [
       "(613, 5)"
      ]
     },
     "execution_count": 15,
     "metadata": {},
     "output_type": "execute_result"
    }
   ],
   "source": [
    "df.shape"
   ]
  },
  {
   "cell_type": "code",
   "execution_count": 16,
   "id": "dd797b39",
   "metadata": {
    "collapsed": true
   },
   "outputs": [
    {
     "data": {
      "text/html": [
       "<div><div id=e07d4ba1-6b1f-402f-924c-27361a046cf6 style=\"display:none; background-color:#9D6CFF; color:white; width:200px; height:30px; padding-left:5px; border-radius:4px; flex-direction:row; justify-content:space-around; align-items:center;\" onmouseover=\"this.style.backgroundColor='#BA9BF8'\" onmouseout=\"this.style.backgroundColor='#9D6CFF'\" onclick=\"window.commands?.execute('create-mitosheet-from-dataframe-output');\">See Full Dataframe in Mito</div> <script> if (window.commands.hasCommand('create-mitosheet-from-dataframe-output')) document.getElementById('e07d4ba1-6b1f-402f-924c-27361a046cf6').style.display = 'flex' </script> <table border=\"1\" class=\"dataframe\">\n",
       "  <thead>\n",
       "    <tr style=\"text-align: right;\">\n",
       "      <th></th>\n",
       "      <th>Keyword</th>\n",
       "      <th>Rank</th>\n",
       "      <th>App ID</th>\n",
       "      <th>Short Description</th>\n",
       "      <th>Long Description</th>\n",
       "    </tr>\n",
       "  </thead>\n",
       "  <tbody>\n",
       "    <tr>\n",
       "      <th>count</th>\n",
       "      <td>613</td>\n",
       "      <td>609.000000</td>\n",
       "      <td>613</td>\n",
       "      <td>613</td>\n",
       "      <td>613</td>\n",
       "    </tr>\n",
       "    <tr>\n",
       "      <th>unique</th>\n",
       "      <td>7</td>\n",
       "      <td>NaN</td>\n",
       "      <td>8</td>\n",
       "      <td>9</td>\n",
       "      <td>13</td>\n",
       "    </tr>\n",
       "    <tr>\n",
       "      <th>top</th>\n",
       "      <td>fast browser</td>\n",
       "      <td>NaN</td>\n",
       "      <td>com.vivaldi.browser</td>\n",
       "      <td>Fast &amp;amp; private web browser with ad blocker, sync, dark &amp;amp; private mode.</td>\n",
       "      <td>Vivaldi is a new private web browser with an integrated ad blocker, tracking protection, and useful built-in features. Browse with unique desktop-style tabs, end-to-end encrypted sync, dark &amp; private mode. Download for free and browse fast, take notes in the browser, and capture full-length screenshots.\\r\\n\\r\\n⛔️ Block ads and trackers\\r\\nBlock ads and stop trackers from following you around the web to browse more privately and securely. Keep privacy ahead and say goodbye to annoying video ads, pop ups, and creepy trackers while browsing with Vivaldi.\\r\\n\\r\\nPlay with a flexible user interface\\r\\nGive your browser a look that's uniquely yours with Vivaldi’s flexible user interface (UI). Browse with dark/light modes using new desktop-style tabs, and keep go-to tools within easy reach.\\r\\n\\r\\n🕵️‍♂️ Private browsing\\r\\nKeep your browsing history discreet using incognito private tabs – searches, sites visited, cookies and temporary files won't be stored by Vivaldi. \\r\\n\\r\\n🛠 Manage tabs with ease\\r\\nQuickly swipe to find open tabs, private incognito tabs and tabs you’ve recently closed in the browser or have open on another synced device. \\r\\n\\r\\n🔄 Bring your data with you\\r\\nSecurely sync your passwords, Bookmarks, Notes and keep your browsing data private between devices using end-to-end encryption with own servers in Iceland.\\r\\n\\r\\n🏃‍♀️ Get there faster\\r\\nKeep your favorite sites just a tap away and browse faster by adding custom Speed Dials to the new tab page.\\r\\n\\r\\n📝 Take notes\\r\\nJot down ideas by creating Notes as you browse the web and sync them securely between your devices.\\r\\n\\r\\n📸 Snap screenshots\\r\\nCapture a full-length screenshot of any website or take a snap of the visible area of any webpage while browsing. Share away. \\r\\n\\r\\n🔎 Switch search engines instantly\\r\\nUse search engine nicknames to quickly swap search engines while typing in Vivaldi’s Address Field. For example, type \"d\" to select DuckDuckGo or \"w\" for Wikipedia.\\r\\n\\r\\n🕹 Have fun and play Vivaldia\\r\\nVivaldia is a real 80s-style arcade runner game built into the Vivaldi browser. Play it both online and offline on your mobile and desktop. Includes gamepad support.\\r\\n\\r\\nVivaldi Browser features\\r\\n• Free Private Browser\\r\\n• Encrypted sync\\r\\n• Ad blocker\\r\\n• Screen capture\\r\\n• Speed dial shortcuts for favorites\\r\\n• Notes with rich text support\\r\\n• Private tabs\\r\\n• Dark mode\\r\\n• Bookmarks manager\\r\\n• Recently closed tabs\\r\\n• Search engine nicknames\\r\\n• Reader mode\\r\\n• Clone tab\\r\\n• Downloads manager\\r\\n\\r\\nDownload for free and browse faster with the new Vivaldi web browser. Leave a review about the browser and its features and let us know what you think. \\r\\n\\r\\nAbout Vivaldi Web Browser\\r\\nWe believe that many people want to customize and tweak every square inch of their web browser to make it their own. They want to access useful tools without sacrificing speed, privacy or security. And they want to be heard.\\r\\n\\r\\nThat's why we’re building a browser that is fast, powerful and flexible. A browser that respects your privacy and does not track you. A browser that adapts to you, not the other way around. \\r\\n\\r\\nVivaldi web browser is also available for free on desktops running Windows, macOS, and Linux. \\r\\n\\r\\nLearn more about Vivaldi browser and our mission by visiting https://vivaldi.com</td>\n",
       "    </tr>\n",
       "    <tr>\n",
       "      <th>freq</th>\n",
       "      <td>118</td>\n",
       "      <td>NaN</td>\n",
       "      <td>198</td>\n",
       "      <td>198</td>\n",
       "      <td>198</td>\n",
       "    </tr>\n",
       "    <tr>\n",
       "      <th>mean</th>\n",
       "      <td>NaN</td>\n",
       "      <td>35.287356</td>\n",
       "      <td>NaN</td>\n",
       "      <td>NaN</td>\n",
       "      <td>NaN</td>\n",
       "    </tr>\n",
       "    <tr>\n",
       "      <th>...</th>\n",
       "      <td>...</td>\n",
       "      <td>...</td>\n",
       "      <td>...</td>\n",
       "      <td>...</td>\n",
       "      <td>...</td>\n",
       "    </tr>\n",
       "    <tr>\n",
       "      <th>min</th>\n",
       "      <td>NaN</td>\n",
       "      <td>1.000000</td>\n",
       "      <td>NaN</td>\n",
       "      <td>NaN</td>\n",
       "      <td>NaN</td>\n",
       "    </tr>\n",
       "    <tr>\n",
       "      <th>25%</th>\n",
       "      <td>NaN</td>\n",
       "      <td>8.000000</td>\n",
       "      <td>NaN</td>\n",
       "      <td>NaN</td>\n",
       "      <td>NaN</td>\n",
       "    </tr>\n",
       "    <tr>\n",
       "      <th>50%</th>\n",
       "      <td>NaN</td>\n",
       "      <td>23.000000</td>\n",
       "      <td>NaN</td>\n",
       "      <td>NaN</td>\n",
       "      <td>NaN</td>\n",
       "    </tr>\n",
       "    <tr>\n",
       "      <th>75%</th>\n",
       "      <td>NaN</td>\n",
       "      <td>57.000000</td>\n",
       "      <td>NaN</td>\n",
       "      <td>NaN</td>\n",
       "      <td>NaN</td>\n",
       "    </tr>\n",
       "    <tr>\n",
       "      <th>max</th>\n",
       "      <td>NaN</td>\n",
       "      <td>134.000000</td>\n",
       "      <td>NaN</td>\n",
       "      <td>NaN</td>\n",
       "      <td>NaN</td>\n",
       "    </tr>\n",
       "  </tbody>\n",
       "</table></div>"
      ],
      "text/plain": [
       "             Keyword        Rank               App ID  \\\n",
       "count            613  609.000000                  613   \n",
       "unique             7         NaN                    8   \n",
       "top     fast browser         NaN  com.vivaldi.browser   \n",
       "freq             118         NaN                  198   \n",
       "mean             NaN   35.287356                  NaN   \n",
       "std              NaN   33.107598                  NaN   \n",
       "min              NaN    1.000000                  NaN   \n",
       "25%              NaN    8.000000                  NaN   \n",
       "50%              NaN   23.000000                  NaN   \n",
       "75%              NaN   57.000000                  NaN   \n",
       "max              NaN  134.000000                  NaN   \n",
       "\n",
       "                                        Short Description  \\\n",
       "count                                                 613   \n",
       "unique                                                  9   \n",
       "top     Fast &amp; private web browser with ad blocker...   \n",
       "freq                                                  198   \n",
       "mean                                                  NaN   \n",
       "std                                                   NaN   \n",
       "min                                                   NaN   \n",
       "25%                                                   NaN   \n",
       "50%                                                   NaN   \n",
       "75%                                                   NaN   \n",
       "max                                                   NaN   \n",
       "\n",
       "                                         Long Description  \n",
       "count                                                 613  \n",
       "unique                                                 13  \n",
       "top     Vivaldi is a new private web browser with an i...  \n",
       "freq                                                  198  \n",
       "mean                                                  NaN  \n",
       "std                                                   NaN  \n",
       "min                                                   NaN  \n",
       "25%                                                   NaN  \n",
       "50%                                                   NaN  \n",
       "75%                                                   NaN  \n",
       "max                                                   NaN  "
      ]
     },
     "execution_count": 16,
     "metadata": {},
     "output_type": "execute_result"
    }
   ],
   "source": [
    "df.describe(include=\"all\")"
   ]
  },
  {
   "cell_type": "code",
   "execution_count": 18,
   "id": "91eb4961",
   "metadata": {},
   "outputs": [
    {
     "data": {
      "text/plain": [
       "Keyword              0\n",
       "Rank                 4\n",
       "App ID               0\n",
       "Short Description    0\n",
       "Long Description     0\n",
       "dtype: int64"
      ]
     },
     "execution_count": 18,
     "metadata": {},
     "output_type": "execute_result"
    }
   ],
   "source": [
    "df.isnull().sum() "
   ]
  },
  {
   "cell_type": "markdown",
   "id": "77292f38",
   "metadata": {},
   "source": [
    "- 4 null values found in Rank. Lets find them and see what we can do.\n",
    "- We can use mode values of rank but since its just 4 values, we can remove those 4 rows."
   ]
  },
  {
   "cell_type": "code",
   "execution_count": 108,
   "id": "fc092321",
   "metadata": {
    "collapsed": true
   },
   "outputs": [
    {
     "data": {
      "text/html": [
       "<div><div id=2b56a58b-2689-46c4-89df-e2146b8d617a style=\"display:none; background-color:#9D6CFF; color:white; width:200px; height:30px; padding-left:5px; border-radius:4px; flex-direction:row; justify-content:space-around; align-items:center;\" onmouseover=\"this.style.backgroundColor='#BA9BF8'\" onmouseout=\"this.style.backgroundColor='#9D6CFF'\" onclick=\"window.commands?.execute('create-mitosheet-from-dataframe-output');\">See Full Dataframe in Mito</div> <script> if (window.commands.hasCommand('create-mitosheet-from-dataframe-output')) document.getElementById('2b56a58b-2689-46c4-89df-e2146b8d617a').style.display = 'flex' </script> <table border=\"1\" class=\"dataframe\">\n",
       "  <thead>\n",
       "    <tr style=\"text-align: right;\">\n",
       "      <th></th>\n",
       "      <th>Keyword</th>\n",
       "      <th>Rank</th>\n",
       "      <th>App ID</th>\n",
       "      <th>Short Description</th>\n",
       "      <th>Long Description</th>\n",
       "    </tr>\n",
       "    <tr>\n",
       "      <th>Index</th>\n",
       "      <th></th>\n",
       "      <th></th>\n",
       "      <th></th>\n",
       "      <th></th>\n",
       "      <th></th>\n",
       "    </tr>\n",
       "  </thead>\n",
       "  <tbody>\n",
       "    <tr>\n",
       "      <th>103</th>\n",
       "      <td>best privacy browsers</td>\n",
       "      <td>NaN</td>\n",
       "      <td>com.vivaldi.browser</td>\n",
       "      <td>Fast &amp;amp; private web browser with ad blocker, sync, dark &amp;amp; private mode.</td>\n",
       "      <td>Vivaldi is a new private web browser with an integrated ad blocker, tracking protection, and useful built-in features. Browse with unique desktop-style tabs, end-to-end encrypted sync, dark &amp; private mode. Download for free and browse fast, take notes in the browser, and capture full-length screenshots.\\r\\n\\r\\n⛔️ Block ads and trackers\\r\\nBlock ads and stop trackers from following you around the web to browse more privately and securely. Keep privacy ahead and say goodbye to annoying video ads, pop ups, and creepy trackers while browsing with Vivaldi.\\r\\n\\r\\nPlay with a flexible user interface\\r\\nGive your browser a look that's uniquely yours with Vivaldi’s flexible user interface (UI). Browse with dark/light modes using new desktop-style tabs, and keep go-to tools within easy reach.\\r\\n\\r\\n🕵️‍♂️ Private browsing\\r\\nKeep your browsing history discreet using incognito private tabs – searches, sites visited, cookies and temporary files won't be stored by Vivaldi. \\r\\n\\r\\n🛠 Manage tabs with ease\\r\\nQuickly swipe to find open tabs, private incognito tabs and tabs you’ve recently closed in the browser or have open on another synced device. \\r\\n\\r\\n🔄 Bring your data with you\\r\\nSecurely sync your passwords, Bookmarks, Notes and keep your browsing data private between devices using end-to-end encryption with own servers in Iceland.\\r\\n\\r\\n🏃‍♀️ Get there faster\\r\\nKeep your favorite sites just a tap away and browse faster by adding custom Speed Dials to the new tab page.\\r\\n\\r\\n📝 Take notes\\r\\nJot down ideas by creating Notes as you browse the web and sync them securely between your devices.\\r\\n\\r\\n📸 Snap screenshots\\r\\nCapture a full-length screenshot of any website or take a snap of the visible area of any webpage while browsing. Share away. \\r\\n\\r\\n🔎 Switch search engines instantly\\r\\nUse search engine nicknames to quickly swap search engines while typing in Vivaldi’s Address Field. For example, type \"d\" to select DuckDuckGo or \"w\" for Wikipedia.\\r\\n\\r\\n🕹 Have fun and play Vivaldia\\r\\nVivaldia is a real 80s-style arcade runner game built into the Vivaldi browser. Play it both online and offline on your mobile and desktop. Includes gamepad support.\\r\\n\\r\\nVivaldi Browser features\\r\\n• Free Private Browser\\r\\n• Encrypted sync\\r\\n• Ad blocker\\r\\n• Screen capture\\r\\n• Speed dial shortcuts for favorites\\r\\n• Notes with rich text support\\r\\n• Private tabs\\r\\n• Dark mode\\r\\n• Bookmarks manager\\r\\n• Recently closed tabs\\r\\n• Search engine nicknames\\r\\n• Reader mode\\r\\n• Clone tab\\r\\n• Downloads manager\\r\\n\\r\\nDownload for free and browse faster with the new Vivaldi web browser. Leave a review about the browser and its features and let us know what you think. \\r\\n\\r\\nAbout Vivaldi Web Browser\\r\\nWe believe that many people want to customize and tweak every square inch of their web browser to make it their own. They want to access useful tools without sacrificing speed, privacy or security. And they want to be heard.\\r\\n\\r\\nThat's why we’re building a browser that is fast, powerful and flexible. A browser that respects your privacy and does not track you. A browser that adapts to you, not the other way around. \\r\\n\\r\\nVivaldi web browser is also available for free on desktops running Windows, macOS, and Linux. \\r\\n\\r\\nLearn more about Vivaldi browser and our mission by visiting https://vivaldi.com</td>\n",
       "    </tr>\n",
       "    <tr>\n",
       "      <th>132</th>\n",
       "      <td>privacy browser</td>\n",
       "      <td>NaN</td>\n",
       "      <td>com.vivaldi.browser</td>\n",
       "      <td>Fast &amp;amp; private web browser with ad blocker, sync, dark &amp;amp; private mode.</td>\n",
       "      <td>Vivaldi is a new private web browser with an integrated ad blocker, tracking protection, and useful built-in features. Browse with unique desktop-style tabs, end-to-end encrypted sync, dark &amp; private mode. Download for free and browse fast, take notes in the browser, and capture full-length screenshots.\\r\\n\\r\\n⛔️ Block ads and trackers\\r\\nBlock ads and stop trackers from following you around the web to browse more privately and securely. Keep privacy ahead and say goodbye to annoying video ads, pop ups, and creepy trackers while browsing with Vivaldi.\\r\\n\\r\\nPlay with a flexible user interface\\r\\nGive your browser a look that's uniquely yours with Vivaldi’s flexible user interface (UI). Browse with dark/light modes using new desktop-style tabs, and keep go-to tools within easy reach.\\r\\n\\r\\n🕵️‍♂️ Private browsing\\r\\nKeep your browsing history discreet using incognito private tabs – searches, sites visited, cookies and temporary files won't be stored by Vivaldi. \\r\\n\\r\\n🛠 Manage tabs with ease\\r\\nQuickly swipe to find open tabs, private incognito tabs and tabs you’ve recently closed in the browser or have open on another synced device. \\r\\n\\r\\n🔄 Bring your data with you\\r\\nSecurely sync your passwords, Bookmarks, Notes and keep your browsing data private between devices using end-to-end encryption with own servers in Iceland.\\r\\n\\r\\n🏃‍♀️ Get there faster\\r\\nKeep your favorite sites just a tap away and browse faster by adding custom Speed Dials to the new tab page.\\r\\n\\r\\n📝 Take notes\\r\\nJot down ideas by creating Notes as you browse the web and sync them securely between your devices.\\r\\n\\r\\n📸 Snap screenshots\\r\\nCapture a full-length screenshot of any website or take a snap of the visible area of any webpage while browsing. Share away. \\r\\n\\r\\n🔎 Switch search engines instantly\\r\\nUse search engine nicknames to quickly swap search engines while typing in Vivaldi’s Address Field. For example, type \"d\" to select DuckDuckGo or \"w\" for Wikipedia.\\r\\n\\r\\n🕹 Have fun and play Vivaldia\\r\\nVivaldia is a real 80s-style arcade runner game built into the Vivaldi browser. Play it both online and offline on your mobile and desktop. Includes gamepad support.\\r\\n\\r\\nVivaldi Browser features\\r\\n• Free Private Browser\\r\\n• Encrypted sync\\r\\n• Ad blocker\\r\\n• Screen capture\\r\\n• Speed dial shortcuts for favorites\\r\\n• Notes with rich text support\\r\\n• Private tabs\\r\\n• Dark mode\\r\\n• Bookmarks manager\\r\\n• Recently closed tabs\\r\\n• Search engine nicknames\\r\\n• Reader mode\\r\\n• Clone tab\\r\\n• Downloads manager\\r\\n\\r\\nDownload for free and browse faster with the new Vivaldi web browser. Leave a review about the browser and its features and let us know what you think. \\r\\n\\r\\nAbout Vivaldi Web Browser\\r\\nWe believe that many people want to customize and tweak every square inch of their web browser to make it their own. They want to access useful tools without sacrificing speed, privacy or security. And they want to be heard.\\r\\n\\r\\nThat's why we’re building a browser that is fast, powerful and flexible. A browser that respects your privacy and does not track you. A browser that adapts to you, not the other way around. \\r\\n\\r\\nVivaldi web browser is also available for free on desktops running Windows, macOS, and Linux. \\r\\n\\r\\nLearn more about Vivaldi browser and our mission by visiting https://vivaldi.com</td>\n",
       "    </tr>\n",
       "    <tr>\n",
       "      <th>1113</th>\n",
       "      <td>fast browser</td>\n",
       "      <td>NaN</td>\n",
       "      <td>com.vivaldi.browser</td>\n",
       "      <td>Fast &amp;amp; private web browser with ad blocker, sync, dark &amp;amp; private mode.</td>\n",
       "      <td>Vivaldi is a new private web browser with an integrated ad blocker, tracking protection, and useful built-in features. Browse with unique desktop-style tabs, end-to-end encrypted sync, dark &amp; private mode. Download for free and browse fast, take notes in the browser, and capture full-length screenshots.\\r\\n\\r\\n⛔️ Block ads and trackers\\r\\nBlock ads and stop trackers from following you around the web to browse more privately and securely. Keep privacy ahead and say goodbye to annoying video ads, pop ups, and creepy trackers while browsing with Vivaldi.\\r\\n\\r\\nPlay with a flexible user interface\\r\\nGive your browser a look that's uniquely yours with Vivaldi’s flexible user interface (UI). Browse with dark/light modes using new desktop-style tabs, and keep go-to tools within easy reach.\\r\\n\\r\\n🕵️‍♂️ Private browsing\\r\\nKeep your browsing history discreet using incognito private tabs – searches, sites visited, cookies and temporary files won't be stored by Vivaldi. \\r\\n\\r\\n🛠 Manage tabs with ease\\r\\nQuickly swipe to find open tabs, private incognito tabs and tabs you’ve recently closed in the browser or have open on another synced device. \\r\\n\\r\\n🔄 Bring your data with you\\r\\nSecurely sync your passwords, Bookmarks, Notes and keep your browsing data private between devices using end-to-end encryption with own servers in Iceland.\\r\\n\\r\\n🏃‍♀️ Get there faster\\r\\nKeep your favorite sites just a tap away and browse faster by adding custom Speed Dials to the new tab page.\\r\\n\\r\\n📝 Take notes\\r\\nJot down ideas by creating Notes as you browse the web and sync them securely between your devices.\\r\\n\\r\\n📸 Snap screenshots\\r\\nCapture a full-length screenshot of any website or take a snap of the visible area of any webpage while browsing. Share away. \\r\\n\\r\\n🔎 Switch search engines instantly\\r\\nUse search engine nicknames to quickly swap search engines while typing in Vivaldi’s Address Field. For example, type \"d\" to select DuckDuckGo or \"w\" for Wikipedia.\\r\\n\\r\\n🕹 Have fun and play Vivaldia\\r\\nVivaldia is a real 80s-style arcade runner game built into the Vivaldi browser. Play it both online and offline on your mobile and desktop. Includes gamepad support.\\r\\n\\r\\nVivaldi Browser features\\r\\n• Free Private Browser\\r\\n• Encrypted sync\\r\\n• Ad blocker\\r\\n• Screen capture\\r\\n• Speed dial shortcuts for favorites\\r\\n• Notes with rich text support\\r\\n• Private tabs\\r\\n• Dark mode\\r\\n• Bookmarks manager\\r\\n• Recently closed tabs\\r\\n• Search engine nicknames\\r\\n• Reader mode\\r\\n• Clone tab\\r\\n• Downloads manager\\r\\n\\r\\nDownload for free and browse faster with the new Vivaldi web browser. Leave a review about the browser and its features and let us know what you think. \\r\\n\\r\\nAbout Vivaldi Web Browser\\r\\nWe believe that many people want to customize and tweak every square inch of their web browser to make it their own. They want to access useful tools without sacrificing speed, privacy or security. And they want to be heard.\\r\\n\\r\\nThat's why we’re building a browser that is fast, powerful and flexible. A browser that respects your privacy and does not track you. A browser that adapts to you, not the other way around. \\r\\n\\r\\nVivaldi web browser is also available for free on desktops running Windows, macOS, and Linux. \\r\\n\\r\\nLearn more about Vivaldi browser and our mission by visiting https://vivaldi.com</td>\n",
       "    </tr>\n",
       "    <tr>\n",
       "      <th>1760</th>\n",
       "      <td>privacy browsers for android</td>\n",
       "      <td>NaN</td>\n",
       "      <td>com.vivaldi.browser</td>\n",
       "      <td>Fast &amp;amp; private web browser with ad blocker, sync, dark &amp;amp; private mode.</td>\n",
       "      <td>Vivaldi is a new private web browser with an integrated ad blocker, tracking protection, and useful built-in features. Browse with unique desktop-style tabs, end-to-end encrypted sync, dark &amp; private mode. Download for free and browse fast, take notes in the browser, and capture full-length screenshots.\\r\\n\\r\\n⛔️ Block ads and trackers\\r\\nBlock ads and stop trackers from following you around the web to browse more privately and securely. Keep privacy ahead and say goodbye to annoying video ads, pop ups, and creepy trackers while browsing with Vivaldi.\\r\\n\\r\\nPlay with a flexible user interface\\r\\nGive your browser a look that's uniquely yours with Vivaldi’s flexible user interface (UI). Browse with dark/light modes using new desktop-style tabs, and keep go-to tools within easy reach.\\r\\n\\r\\n🕵️‍♂️ Private browsing\\r\\nKeep your browsing history discreet using incognito private tabs – searches, sites visited, cookies and temporary files won't be stored by Vivaldi. \\r\\n\\r\\n🛠 Manage tabs with ease\\r\\nQuickly swipe to find open tabs, private incognito tabs and tabs you’ve recently closed in the browser or have open on another synced device. \\r\\n\\r\\n🔄 Bring your data with you\\r\\nSecurely sync your passwords, Bookmarks, Notes and keep your browsing data private between devices using end-to-end encryption with own servers in Iceland.\\r\\n\\r\\n🏃‍♀️ Get there faster\\r\\nKeep your favorite sites just a tap away and browse faster by adding custom Speed Dials to the new tab page.\\r\\n\\r\\n📝 Take notes\\r\\nJot down ideas by creating Notes as you browse the web and sync them securely between your devices.\\r\\n\\r\\n📸 Snap screenshots\\r\\nCapture a full-length screenshot of any website or take a snap of the visible area of any webpage while browsing. Share away. \\r\\n\\r\\n🔎 Switch search engines instantly\\r\\nUse search engine nicknames to quickly swap search engines while typing in Vivaldi’s Address Field. For example, type \"d\" to select DuckDuckGo or \"w\" for Wikipedia.\\r\\n\\r\\n🕹 Have fun and play Vivaldia\\r\\nVivaldia is a real 80s-style arcade runner game built into the Vivaldi browser. Play it both online and offline on your mobile and desktop. Includes gamepad support.\\r\\n\\r\\nVivaldi Browser features\\r\\n• Free Private Browser\\r\\n• Encrypted sync\\r\\n• Ad blocker\\r\\n• Screen capture\\r\\n• Speed dial shortcuts for favorites\\r\\n• Notes with rich text support\\r\\n• Private tabs\\r\\n• Dark mode\\r\\n• Bookmarks manager\\r\\n• Recently closed tabs\\r\\n• Search engine nicknames\\r\\n• Reader mode\\r\\n• Clone tab\\r\\n• Downloads manager\\r\\n\\r\\nDownload for free and browse faster with the new Vivaldi web browser. Leave a review about the browser and its features and let us know what you think. \\r\\n\\r\\nAbout Vivaldi Web Browser\\r\\nWe believe that many people want to customize and tweak every square inch of their web browser to make it their own. They want to access useful tools without sacrificing speed, privacy or security. And they want to be heard.\\r\\n\\r\\nThat's why we’re building a browser that is fast, powerful and flexible. A browser that respects your privacy and does not track you. A browser that adapts to you, not the other way around. \\r\\n\\r\\nVivaldi web browser is also available for free on desktops running Windows, macOS, and Linux. \\r\\n\\r\\nLearn more about Vivaldi browser and our mission by visiting https://vivaldi.com</td>\n",
       "    </tr>\n",
       "  </tbody>\n",
       "</table></div>"
      ],
      "text/plain": [
       "                            Keyword  Rank               App ID  \\\n",
       "Index                                                            \n",
       "103           best privacy browsers   NaN  com.vivaldi.browser   \n",
       "132                 privacy browser   NaN  com.vivaldi.browser   \n",
       "1113                   fast browser   NaN  com.vivaldi.browser   \n",
       "1760   privacy browsers for android   NaN  com.vivaldi.browser   \n",
       "\n",
       "                                       Short Description  \\\n",
       "Index                                                      \n",
       "103    Fast &amp; private web browser with ad blocker...   \n",
       "132    Fast &amp; private web browser with ad blocker...   \n",
       "1113   Fast &amp; private web browser with ad blocker...   \n",
       "1760   Fast &amp; private web browser with ad blocker...   \n",
       "\n",
       "                                        Long Description  \n",
       "Index                                                     \n",
       "103    Vivaldi is a new private web browser with an i...  \n",
       "132    Vivaldi is a new private web browser with an i...  \n",
       "1113   Vivaldi is a new private web browser with an i...  \n",
       "1760   Vivaldi is a new private web browser with an i...  "
      ]
     },
     "execution_count": 108,
     "metadata": {},
     "output_type": "execute_result"
    }
   ],
   "source": [
    "null_data = df[df.isnull().any(axis=1)]\n",
    "null_data"
   ]
  },
  {
   "cell_type": "code",
   "execution_count": 109,
   "id": "37812ea0",
   "metadata": {},
   "outputs": [],
   "source": [
    "df = df.dropna(how='any',axis=0) "
   ]
  },
  {
   "cell_type": "code",
   "execution_count": 110,
   "id": "5dae6509",
   "metadata": {},
   "outputs": [
    {
     "data": {
      "text/plain": [
       "Keyword              0\n",
       "Rank                 0\n",
       "App ID               0\n",
       "Short Description    0\n",
       "Long Description     0\n",
       "dtype: int64"
      ]
     },
     "execution_count": 110,
     "metadata": {},
     "output_type": "execute_result"
    }
   ],
   "source": [
    "df.isnull().sum()  "
   ]
  },
  {
   "cell_type": "code",
   "execution_count": 111,
   "id": "d41c7764",
   "metadata": {},
   "outputs": [
    {
     "data": {
      "text/plain": [
       "(609, 5)"
      ]
     },
     "execution_count": 111,
     "metadata": {},
     "output_type": "execute_result"
    }
   ],
   "source": [
    "df.shape"
   ]
  },
  {
   "cell_type": "markdown",
   "id": "b975ebe5",
   "metadata": {},
   "source": [
    " ***"
   ]
  },
  {
   "cell_type": "code",
   "execution_count": 113,
   "id": "1ee99251",
   "metadata": {
    "scrolled": false
   },
   "outputs": [
    {
     "data": {
      "text/plain": [
       "com.vivaldi.browser              194\n",
       "com.transsion.phoenix            125\n",
       "com.cloudmosa.puffinTV            84\n",
       "com.duckduckgo.mobile.android     82\n",
       "com.opera.browser                 38\n",
       "com.brave.browser                 33\n",
       "com.android.chrome                30\n",
       "net.fast.web.browser              23\n",
       "Name: App ID, dtype: int64"
      ]
     },
     "execution_count": 113,
     "metadata": {},
     "output_type": "execute_result"
    }
   ],
   "source": [
    "df[\"App ID\"].value_counts()"
   ]
  },
  {
   "cell_type": "markdown",
   "id": "af6aa2d9",
   "metadata": {},
   "source": [
    "##### From App ID unique values, We can try to understand that the word \"browser\" being present in the App ID makes sense or what."
   ]
  },
  {
   "cell_type": "markdown",
   "id": "02c6b37b",
   "metadata": {},
   "source": [
    "- We can use crosstab with ranks to understand relation with App ID. \n",
    "- Also we can make different small df with keywords so we can crosstab with rankings to understand them."
   ]
  },
  {
   "cell_type": "code",
   "execution_count": 3,
   "id": "3ab64f33",
   "metadata": {
    "collapsed": true
   },
   "outputs": [
    {
     "ename": "NameError",
     "evalue": "name 'df' is not defined",
     "output_type": "error",
     "traceback": [
      "\u001b[1;31m---------------------------------------------------------------------------\u001b[0m",
      "\u001b[1;31mNameError\u001b[0m                                 Traceback (most recent call last)",
      "\u001b[1;32m~\\AppData\\Local\\Temp/ipykernel_13600/2145851674.py\u001b[0m in \u001b[0;36m<module>\u001b[1;34m\u001b[0m\n\u001b[1;32m----> 1\u001b[1;33m \u001b[0mcrosstb\u001b[0m \u001b[1;33m=\u001b[0m \u001b[0mpd\u001b[0m\u001b[1;33m.\u001b[0m\u001b[0mcrosstab\u001b[0m\u001b[1;33m(\u001b[0m\u001b[0mdf\u001b[0m\u001b[1;33m[\u001b[0m\u001b[1;34m\"App ID\"\u001b[0m\u001b[1;33m]\u001b[0m\u001b[1;33m,\u001b[0m \u001b[0mdf\u001b[0m\u001b[1;33m[\u001b[0m\u001b[1;34m\"Keyword\"\u001b[0m\u001b[1;33m]\u001b[0m\u001b[1;33m)\u001b[0m\u001b[1;33m\u001b[0m\u001b[1;33m\u001b[0m\u001b[0m\n\u001b[0m",
      "\u001b[1;31mNameError\u001b[0m: name 'df' is not defined"
     ]
    }
   ],
   "source": [
    "crosstb = pd.crosstab(df[\"App ID\"], df[\"Keyword\"])"
   ]
  },
  {
   "cell_type": "code",
   "execution_count": null,
   "id": "b3072e23",
   "metadata": {},
   "outputs": [],
   "source": [
    "crosstb"
   ]
  },
  {
   "cell_type": "markdown",
   "id": "285b9ff5",
   "metadata": {},
   "source": [
    "##### From App ID values, the few categories makes sense is: || \n",
    "- 1. if keyword is present in the App ID\n",
    "- 2. if keyword is not present in the App ID"
   ]
  },
  {
   "cell_type": "markdown",
   "id": "da068d37",
   "metadata": {
    "scrolled": false
   },
   "source": [
    " From the above crosstab, we an see that every keyword is contributing with <= 4 unique app ID's"
   ]
  },
  {
   "cell_type": "code",
   "execution_count": 63,
   "id": "a58d1305",
   "metadata": {},
   "outputs": [],
   "source": [
    "android_browser\t = df[df['Keyword'] == \"android browser\"]\n",
    "pd.crosstab(android_browser[\"App ID\"], android_browser[\"Rank\"])\n",
    "# We can see that the keyword \"android browser\" has no impact in Ranks."
   ]
  },
  {
   "cell_type": "code",
   "execution_count": 66,
   "id": "fb4f2fc6",
   "metadata": {
    "collapsed": true
   },
   "outputs": [
    {
     "data": {
      "text/html": [
       "<div><div id=41e7e16f-d9fa-4e62-ae84-38d887f35a83 style=\"display:none; background-color:#9D6CFF; color:white; width:200px; height:30px; padding-left:5px; border-radius:4px; flex-direction:row; justify-content:space-around; align-items:center;\" onmouseover=\"this.style.backgroundColor='#BA9BF8'\" onmouseout=\"this.style.backgroundColor='#9D6CFF'\" onclick=\"window.commands?.execute('create-mitosheet-from-dataframe-output');\">See Full Dataframe in Mito</div> <script> if (window.commands.hasCommand('create-mitosheet-from-dataframe-output')) document.getElementById('41e7e16f-d9fa-4e62-ae84-38d887f35a83').style.display = 'flex' </script> <table border=\"1\" class=\"dataframe\">\n",
       "  <thead>\n",
       "    <tr style=\"text-align: right;\">\n",
       "      <th>Rank</th>\n",
       "      <th>2.0</th>\n",
       "      <th>3.0</th>\n",
       "      <th>4.0</th>\n",
       "      <th>5.0</th>\n",
       "      <th>6.0</th>\n",
       "      <th>7.0</th>\n",
       "      <th>8.0</th>\n",
       "      <th>9.0</th>\n",
       "      <th>10.0</th>\n",
       "      <th>11.0</th>\n",
       "      <th>12.0</th>\n",
       "      <th>13.0</th>\n",
       "      <th>14.0</th>\n",
       "      <th>15.0</th>\n",
       "      <th>16.0</th>\n",
       "      <th>17.0</th>\n",
       "      <th>18.0</th>\n",
       "      <th>20.0</th>\n",
       "      <th>24.0</th>\n",
       "    </tr>\n",
       "    <tr>\n",
       "      <th>App ID</th>\n",
       "      <th></th>\n",
       "      <th></th>\n",
       "      <th></th>\n",
       "      <th></th>\n",
       "      <th></th>\n",
       "      <th></th>\n",
       "      <th></th>\n",
       "      <th></th>\n",
       "      <th></th>\n",
       "      <th></th>\n",
       "      <th></th>\n",
       "      <th></th>\n",
       "      <th></th>\n",
       "      <th></th>\n",
       "      <th></th>\n",
       "      <th></th>\n",
       "      <th></th>\n",
       "      <th></th>\n",
       "      <th></th>\n",
       "    </tr>\n",
       "  </thead>\n",
       "  <tbody>\n",
       "    <tr>\n",
       "      <th>com.android.chrome</th>\n",
       "      <td>0</td>\n",
       "      <td>0</td>\n",
       "      <td>0</td>\n",
       "      <td>0</td>\n",
       "      <td>0</td>\n",
       "      <td>1</td>\n",
       "      <td>1</td>\n",
       "      <td>1</td>\n",
       "      <td>1</td>\n",
       "      <td>1</td>\n",
       "      <td>1</td>\n",
       "      <td>1</td>\n",
       "      <td>1</td>\n",
       "      <td>1</td>\n",
       "      <td>1</td>\n",
       "      <td>1</td>\n",
       "      <td>1</td>\n",
       "      <td>1</td>\n",
       "      <td>0</td>\n",
       "    </tr>\n",
       "    <tr>\n",
       "      <th>com.cloudmosa.puffinTV</th>\n",
       "      <td>4</td>\n",
       "      <td>4</td>\n",
       "      <td>4</td>\n",
       "      <td>4</td>\n",
       "      <td>4</td>\n",
       "      <td>4</td>\n",
       "      <td>4</td>\n",
       "      <td>4</td>\n",
       "      <td>4</td>\n",
       "      <td>4</td>\n",
       "      <td>4</td>\n",
       "      <td>0</td>\n",
       "      <td>4</td>\n",
       "      <td>0</td>\n",
       "      <td>0</td>\n",
       "      <td>0</td>\n",
       "      <td>0</td>\n",
       "      <td>0</td>\n",
       "      <td>0</td>\n",
       "    </tr>\n",
       "    <tr>\n",
       "      <th>com.opera.browser</th>\n",
       "      <td>2</td>\n",
       "      <td>2</td>\n",
       "      <td>2</td>\n",
       "      <td>2</td>\n",
       "      <td>2</td>\n",
       "      <td>2</td>\n",
       "      <td>2</td>\n",
       "      <td>2</td>\n",
       "      <td>0</td>\n",
       "      <td>0</td>\n",
       "      <td>0</td>\n",
       "      <td>0</td>\n",
       "      <td>0</td>\n",
       "      <td>0</td>\n",
       "      <td>0</td>\n",
       "      <td>0</td>\n",
       "      <td>0</td>\n",
       "      <td>0</td>\n",
       "      <td>0</td>\n",
       "    </tr>\n",
       "    <tr>\n",
       "      <th>net.fast.web.browser</th>\n",
       "      <td>0</td>\n",
       "      <td>0</td>\n",
       "      <td>1</td>\n",
       "      <td>1</td>\n",
       "      <td>1</td>\n",
       "      <td>1</td>\n",
       "      <td>1</td>\n",
       "      <td>1</td>\n",
       "      <td>1</td>\n",
       "      <td>1</td>\n",
       "      <td>1</td>\n",
       "      <td>1</td>\n",
       "      <td>1</td>\n",
       "      <td>1</td>\n",
       "      <td>1</td>\n",
       "      <td>0</td>\n",
       "      <td>0</td>\n",
       "      <td>0</td>\n",
       "      <td>1</td>\n",
       "    </tr>\n",
       "  </tbody>\n",
       "</table></div>"
      ],
      "text/plain": [
       "Rank                    2.0   3.0   4.0   5.0   6.0   7.0   8.0   9.0   10.0  \\\n",
       "App ID                                                                         \n",
       "com.android.chrome         0     0     0     0     0     1     1     1     1   \n",
       "com.cloudmosa.puffinTV     4     4     4     4     4     4     4     4     4   \n",
       "com.opera.browser          2     2     2     2     2     2     2     2     0   \n",
       "net.fast.web.browser       0     0     1     1     1     1     1     1     1   \n",
       "\n",
       "Rank                    11.0  12.0  13.0  14.0  15.0  16.0  17.0  18.0  20.0  \\\n",
       "App ID                                                                         \n",
       "com.android.chrome         1     1     1     1     1     1     1     1     1   \n",
       "com.cloudmosa.puffinTV     4     4     0     4     0     0     0     0     0   \n",
       "com.opera.browser          0     0     0     0     0     0     0     0     0   \n",
       "net.fast.web.browser       1     1     1     1     1     1     0     0     0   \n",
       "\n",
       "Rank                    24.0  \n",
       "App ID                        \n",
       "com.android.chrome         0  \n",
       "com.cloudmosa.puffinTV     0  \n",
       "com.opera.browser          0  \n",
       "net.fast.web.browser       1  "
      ]
     },
     "execution_count": 66,
     "metadata": {},
     "output_type": "execute_result"
    }
   ],
   "source": []
  },
  {
   "cell_type": "code",
   "execution_count": 67,
   "id": "9dd62b29",
   "metadata": {},
   "outputs": [],
   "source": [
    "browser = df[df['Keyword'] == \"browser\"]\n",
    "pd.crosstab(browser[\"App ID\"], browser[\"Rank\"])\n",
    "# Keyword \"browser\" seems to have high relation but not.\n",
    "# com.cloudmosa.puffinTV is showing better ranks of all which has no keyword in it.\n",
    "# Also com.vivaldi.browser & com.brave.browser have no ranks  for \"browser\" keyword at all."
   ]
  },
  {
   "cell_type": "code",
   "execution_count": 69,
   "id": "766c7f75",
   "metadata": {},
   "outputs": [
    {
     "data": {
      "text/html": [
       "<div><div id=865e80f3-43c7-4bff-a45e-ecaddcc04730 style=\"display:none; background-color:#9D6CFF; color:white; width:200px; height:30px; padding-left:5px; border-radius:4px; flex-direction:row; justify-content:space-around; align-items:center;\" onmouseover=\"this.style.backgroundColor='#BA9BF8'\" onmouseout=\"this.style.backgroundColor='#9D6CFF'\" onclick=\"window.commands?.execute('create-mitosheet-from-dataframe-output');\">See Full Dataframe in Mito</div> <script> if (window.commands.hasCommand('create-mitosheet-from-dataframe-output')) document.getElementById('865e80f3-43c7-4bff-a45e-ecaddcc04730').style.display = 'flex' </script> <table border=\"1\" class=\"dataframe\">\n",
       "  <thead>\n",
       "    <tr style=\"text-align: right;\">\n",
       "      <th>Rank</th>\n",
       "      <th>1.0</th>\n",
       "      <th>2.0</th>\n",
       "      <th>3.0</th>\n",
       "      <th>4.0</th>\n",
       "      <th>5.0</th>\n",
       "      <th>6.0</th>\n",
       "      <th>7.0</th>\n",
       "      <th>8.0</th>\n",
       "      <th>9.0</th>\n",
       "      <th>10.0</th>\n",
       "      <th>11.0</th>\n",
       "      <th>12.0</th>\n",
       "      <th>13.0</th>\n",
       "      <th>14.0</th>\n",
       "      <th>15.0</th>\n",
       "      <th>16.0</th>\n",
       "      <th>17.0</th>\n",
       "      <th>20.0</th>\n",
       "    </tr>\n",
       "    <tr>\n",
       "      <th>App ID</th>\n",
       "      <th></th>\n",
       "      <th></th>\n",
       "      <th></th>\n",
       "      <th></th>\n",
       "      <th></th>\n",
       "      <th></th>\n",
       "      <th></th>\n",
       "      <th></th>\n",
       "      <th></th>\n",
       "      <th></th>\n",
       "      <th></th>\n",
       "      <th></th>\n",
       "      <th></th>\n",
       "      <th></th>\n",
       "      <th></th>\n",
       "      <th></th>\n",
       "      <th></th>\n",
       "      <th></th>\n",
       "    </tr>\n",
       "  </thead>\n",
       "  <tbody>\n",
       "    <tr>\n",
       "      <th>com.android.chrome</th>\n",
       "      <td>1</td>\n",
       "      <td>1</td>\n",
       "      <td>1</td>\n",
       "      <td>1</td>\n",
       "      <td>1</td>\n",
       "      <td>1</td>\n",
       "      <td>1</td>\n",
       "      <td>1</td>\n",
       "      <td>0</td>\n",
       "      <td>1</td>\n",
       "      <td>1</td>\n",
       "      <td>1</td>\n",
       "      <td>1</td>\n",
       "      <td>1</td>\n",
       "      <td>1</td>\n",
       "      <td>1</td>\n",
       "      <td>1</td>\n",
       "      <td>1</td>\n",
       "    </tr>\n",
       "    <tr>\n",
       "      <th>com.cloudmosa.puffinTV</th>\n",
       "      <td>4</td>\n",
       "      <td>4</td>\n",
       "      <td>4</td>\n",
       "      <td>4</td>\n",
       "      <td>4</td>\n",
       "      <td>4</td>\n",
       "      <td>4</td>\n",
       "      <td>0</td>\n",
       "      <td>0</td>\n",
       "      <td>4</td>\n",
       "      <td>0</td>\n",
       "      <td>0</td>\n",
       "      <td>0</td>\n",
       "      <td>4</td>\n",
       "      <td>0</td>\n",
       "      <td>0</td>\n",
       "      <td>0</td>\n",
       "      <td>0</td>\n",
       "    </tr>\n",
       "    <tr>\n",
       "      <th>com.opera.browser</th>\n",
       "      <td>2</td>\n",
       "      <td>2</td>\n",
       "      <td>2</td>\n",
       "      <td>2</td>\n",
       "      <td>2</td>\n",
       "      <td>2</td>\n",
       "      <td>2</td>\n",
       "      <td>2</td>\n",
       "      <td>2</td>\n",
       "      <td>2</td>\n",
       "      <td>0</td>\n",
       "      <td>0</td>\n",
       "      <td>0</td>\n",
       "      <td>2</td>\n",
       "      <td>0</td>\n",
       "      <td>0</td>\n",
       "      <td>0</td>\n",
       "      <td>0</td>\n",
       "    </tr>\n",
       "    <tr>\n",
       "      <th>net.fast.web.browser</th>\n",
       "      <td>1</td>\n",
       "      <td>1</td>\n",
       "      <td>1</td>\n",
       "      <td>1</td>\n",
       "      <td>1</td>\n",
       "      <td>0</td>\n",
       "      <td>0</td>\n",
       "      <td>0</td>\n",
       "      <td>1</td>\n",
       "      <td>0</td>\n",
       "      <td>1</td>\n",
       "      <td>1</td>\n",
       "      <td>0</td>\n",
       "      <td>0</td>\n",
       "      <td>1</td>\n",
       "      <td>0</td>\n",
       "      <td>0</td>\n",
       "      <td>0</td>\n",
       "    </tr>\n",
       "  </tbody>\n",
       "</table></div>"
      ],
      "text/plain": [
       "Rank                    1.0   2.0   3.0   4.0   5.0   6.0   7.0   8.0   9.0   \\\n",
       "App ID                                                                         \n",
       "com.android.chrome         1     1     1     1     1     1     1     1     0   \n",
       "com.cloudmosa.puffinTV     4     4     4     4     4     4     4     0     0   \n",
       "com.opera.browser          2     2     2     2     2     2     2     2     2   \n",
       "net.fast.web.browser       1     1     1     1     1     0     0     0     1   \n",
       "\n",
       "Rank                    10.0  11.0  12.0  13.0  14.0  15.0  16.0  17.0  20.0  \n",
       "App ID                                                                        \n",
       "com.android.chrome         1     1     1     1     1     1     1     1     1  \n",
       "com.cloudmosa.puffinTV     4     0     0     0     4     0     0     0     0  \n",
       "com.opera.browser          2     0     0     0     2     0     0     0     0  \n",
       "net.fast.web.browser       0     1     1     0     0     1     0     0     0  "
      ]
     },
     "execution_count": 69,
     "metadata": {},
     "output_type": "execute_result"
    }
   ],
   "source": []
  },
  {
   "cell_type": "code",
   "execution_count": 71,
   "id": "caf46f08",
   "metadata": {},
   "outputs": [
    {
     "data": {
      "text/html": [
       "<div><div id=48a06186-3f41-48c3-a265-0cdbc561b31e style=\"display:none; background-color:#9D6CFF; color:white; width:200px; height:30px; padding-left:5px; border-radius:4px; flex-direction:row; justify-content:space-around; align-items:center;\" onmouseover=\"this.style.backgroundColor='#BA9BF8'\" onmouseout=\"this.style.backgroundColor='#9D6CFF'\" onclick=\"window.commands?.execute('create-mitosheet-from-dataframe-output');\">See Full Dataframe in Mito</div> <script> if (window.commands.hasCommand('create-mitosheet-from-dataframe-output')) document.getElementById('48a06186-3f41-48c3-a265-0cdbc561b31e').style.display = 'flex' </script> <table border=\"1\" class=\"dataframe\">\n",
       "  <thead>\n",
       "    <tr style=\"text-align: right;\">\n",
       "      <th>Rank</th>\n",
       "      <th>2.0</th>\n",
       "      <th>3.0</th>\n",
       "      <th>4.0</th>\n",
       "      <th>5.0</th>\n",
       "      <th>6.0</th>\n",
       "      <th>7.0</th>\n",
       "      <th>8.0</th>\n",
       "      <th>9.0</th>\n",
       "      <th>10.0</th>\n",
       "      <th>11.0</th>\n",
       "      <th>...</th>\n",
       "      <th>101.0</th>\n",
       "      <th>103.0</th>\n",
       "      <th>104.0</th>\n",
       "      <th>105.0</th>\n",
       "      <th>106.0</th>\n",
       "      <th>107.0</th>\n",
       "      <th>108.0</th>\n",
       "      <th>109.0</th>\n",
       "      <th>110.0</th>\n",
       "      <th>114.0</th>\n",
       "    </tr>\n",
       "    <tr>\n",
       "      <th>App ID</th>\n",
       "      <th></th>\n",
       "      <th></th>\n",
       "      <th></th>\n",
       "      <th></th>\n",
       "      <th></th>\n",
       "      <th></th>\n",
       "      <th></th>\n",
       "      <th></th>\n",
       "      <th></th>\n",
       "      <th></th>\n",
       "      <th></th>\n",
       "      <th></th>\n",
       "      <th></th>\n",
       "      <th></th>\n",
       "      <th></th>\n",
       "      <th></th>\n",
       "      <th></th>\n",
       "      <th></th>\n",
       "      <th></th>\n",
       "      <th></th>\n",
       "      <th></th>\n",
       "    </tr>\n",
       "  </thead>\n",
       "  <tbody>\n",
       "    <tr>\n",
       "      <th>com.brave.browser</th>\n",
       "      <td>1</td>\n",
       "      <td>1</td>\n",
       "      <td>1</td>\n",
       "      <td>1</td>\n",
       "      <td>1</td>\n",
       "      <td>1</td>\n",
       "      <td>1</td>\n",
       "      <td>1</td>\n",
       "      <td>1</td>\n",
       "      <td>1</td>\n",
       "      <td>...</td>\n",
       "      <td>0</td>\n",
       "      <td>0</td>\n",
       "      <td>0</td>\n",
       "      <td>0</td>\n",
       "      <td>0</td>\n",
       "      <td>0</td>\n",
       "      <td>0</td>\n",
       "      <td>0</td>\n",
       "      <td>0</td>\n",
       "      <td>0</td>\n",
       "    </tr>\n",
       "    <tr>\n",
       "      <th>com.duckduckgo.mobile.android</th>\n",
       "      <td>0</td>\n",
       "      <td>0</td>\n",
       "      <td>0</td>\n",
       "      <td>0</td>\n",
       "      <td>0</td>\n",
       "      <td>0</td>\n",
       "      <td>0</td>\n",
       "      <td>0</td>\n",
       "      <td>0</td>\n",
       "      <td>2</td>\n",
       "      <td>...</td>\n",
       "      <td>0</td>\n",
       "      <td>0</td>\n",
       "      <td>0</td>\n",
       "      <td>0</td>\n",
       "      <td>0</td>\n",
       "      <td>0</td>\n",
       "      <td>0</td>\n",
       "      <td>0</td>\n",
       "      <td>0</td>\n",
       "      <td>0</td>\n",
       "    </tr>\n",
       "    <tr>\n",
       "      <th>com.transsion.phoenix</th>\n",
       "      <td>0</td>\n",
       "      <td>0</td>\n",
       "      <td>0</td>\n",
       "      <td>0</td>\n",
       "      <td>1</td>\n",
       "      <td>1</td>\n",
       "      <td>1</td>\n",
       "      <td>1</td>\n",
       "      <td>1</td>\n",
       "      <td>1</td>\n",
       "      <td>...</td>\n",
       "      <td>0</td>\n",
       "      <td>0</td>\n",
       "      <td>0</td>\n",
       "      <td>0</td>\n",
       "      <td>0</td>\n",
       "      <td>0</td>\n",
       "      <td>0</td>\n",
       "      <td>0</td>\n",
       "      <td>0</td>\n",
       "      <td>0</td>\n",
       "    </tr>\n",
       "    <tr>\n",
       "      <th>com.vivaldi.browser</th>\n",
       "      <td>0</td>\n",
       "      <td>0</td>\n",
       "      <td>0</td>\n",
       "      <td>0</td>\n",
       "      <td>0</td>\n",
       "      <td>0</td>\n",
       "      <td>0</td>\n",
       "      <td>0</td>\n",
       "      <td>0</td>\n",
       "      <td>0</td>\n",
       "      <td>...</td>\n",
       "      <td>1</td>\n",
       "      <td>1</td>\n",
       "      <td>1</td>\n",
       "      <td>1</td>\n",
       "      <td>1</td>\n",
       "      <td>1</td>\n",
       "      <td>1</td>\n",
       "      <td>1</td>\n",
       "      <td>1</td>\n",
       "      <td>1</td>\n",
       "    </tr>\n",
       "  </tbody>\n",
       "</table></div>"
      ],
      "text/plain": [
       "Rank                           2.0    3.0    4.0    5.0    6.0    7.0    \\\n",
       "App ID                                                                    \n",
       "com.brave.browser                  1      1      1      1      1      1   \n",
       "com.duckduckgo.mobile.android      0      0      0      0      0      0   \n",
       "com.transsion.phoenix              0      0      0      0      1      1   \n",
       "com.vivaldi.browser                0      0      0      0      0      0   \n",
       "\n",
       "Rank                           8.0    9.0    10.0   11.0   ...  101.0  103.0  \\\n",
       "App ID                                                     ...                 \n",
       "com.brave.browser                  1      1      1      1  ...      0      0   \n",
       "com.duckduckgo.mobile.android      0      0      0      2  ...      0      0   \n",
       "com.transsion.phoenix              1      1      1      1  ...      0      0   \n",
       "com.vivaldi.browser                0      0      0      0  ...      1      1   \n",
       "\n",
       "Rank                           104.0  105.0  106.0  107.0  108.0  109.0  \\\n",
       "App ID                                                                    \n",
       "com.brave.browser                  0      0      0      0      0      0   \n",
       "com.duckduckgo.mobile.android      0      0      0      0      0      0   \n",
       "com.transsion.phoenix              0      0      0      0      0      0   \n",
       "com.vivaldi.browser                1      1      1      1      1      1   \n",
       "\n",
       "Rank                           110.0  114.0  \n",
       "App ID                                       \n",
       "com.brave.browser                  0      0  \n",
       "com.duckduckgo.mobile.android      0      0  \n",
       "com.transsion.phoenix              0      0  \n",
       "com.vivaldi.browser                1      1  \n",
       "\n",
       "[4 rows x 76 columns]"
      ]
     },
     "execution_count": 71,
     "metadata": {},
     "output_type": "execute_result"
    }
   ],
   "source": [
    "fast_browser = df[df['Keyword'] == \"fast browser\"]\n",
    "pd.crosstab(fast_browser[\"App ID\"], fast_browser[\"Rank\"])\n",
    "# Here net.fast.web.browser is not ranked at all when searched with keyword \"fast browser\""
   ]
  },
  {
   "cell_type": "code",
   "execution_count": 73,
   "id": "1d24d0f9",
   "metadata": {},
   "outputs": [
    {
     "data": {
      "text/html": [
       "<div><div id=26b05c4d-79c3-4197-a2f4-c3329adae096 style=\"display:none; background-color:#9D6CFF; color:white; width:200px; height:30px; padding-left:5px; border-radius:4px; flex-direction:row; justify-content:space-around; align-items:center;\" onmouseover=\"this.style.backgroundColor='#BA9BF8'\" onmouseout=\"this.style.backgroundColor='#9D6CFF'\" onclick=\"window.commands?.execute('create-mitosheet-from-dataframe-output');\">See Full Dataframe in Mito</div> <script> if (window.commands.hasCommand('create-mitosheet-from-dataframe-output')) document.getElementById('26b05c4d-79c3-4197-a2f4-c3329adae096').style.display = 'flex' </script> <table border=\"1\" class=\"dataframe\">\n",
       "  <thead>\n",
       "    <tr style=\"text-align: right;\">\n",
       "      <th>Rank</th>\n",
       "      <th>1.0</th>\n",
       "      <th>2.0</th>\n",
       "      <th>3.0</th>\n",
       "      <th>4.0</th>\n",
       "      <th>5.0</th>\n",
       "      <th>13.0</th>\n",
       "      <th>14.0</th>\n",
       "      <th>15.0</th>\n",
       "      <th>16.0</th>\n",
       "      <th>17.0</th>\n",
       "      <th>...</th>\n",
       "      <th>86.0</th>\n",
       "      <th>87.0</th>\n",
       "      <th>89.0</th>\n",
       "      <th>90.0</th>\n",
       "      <th>92.0</th>\n",
       "      <th>94.0</th>\n",
       "      <th>96.0</th>\n",
       "      <th>97.0</th>\n",
       "      <th>105.0</th>\n",
       "      <th>134.0</th>\n",
       "    </tr>\n",
       "    <tr>\n",
       "      <th>App ID</th>\n",
       "      <th></th>\n",
       "      <th></th>\n",
       "      <th></th>\n",
       "      <th></th>\n",
       "      <th></th>\n",
       "      <th></th>\n",
       "      <th></th>\n",
       "      <th></th>\n",
       "      <th></th>\n",
       "      <th></th>\n",
       "      <th></th>\n",
       "      <th></th>\n",
       "      <th></th>\n",
       "      <th></th>\n",
       "      <th></th>\n",
       "      <th></th>\n",
       "      <th></th>\n",
       "      <th></th>\n",
       "      <th></th>\n",
       "      <th></th>\n",
       "      <th></th>\n",
       "    </tr>\n",
       "  </thead>\n",
       "  <tbody>\n",
       "    <tr>\n",
       "      <th>com.brave.browser</th>\n",
       "      <td>1</td>\n",
       "      <td>1</td>\n",
       "      <td>1</td>\n",
       "      <td>1</td>\n",
       "      <td>0</td>\n",
       "      <td>0</td>\n",
       "      <td>0</td>\n",
       "      <td>0</td>\n",
       "      <td>0</td>\n",
       "      <td>0</td>\n",
       "      <td>...</td>\n",
       "      <td>0</td>\n",
       "      <td>0</td>\n",
       "      <td>0</td>\n",
       "      <td>0</td>\n",
       "      <td>0</td>\n",
       "      <td>0</td>\n",
       "      <td>0</td>\n",
       "      <td>0</td>\n",
       "      <td>0</td>\n",
       "      <td>0</td>\n",
       "    </tr>\n",
       "    <tr>\n",
       "      <th>com.duckduckgo.mobile.android</th>\n",
       "      <td>2</td>\n",
       "      <td>0</td>\n",
       "      <td>0</td>\n",
       "      <td>0</td>\n",
       "      <td>2</td>\n",
       "      <td>0</td>\n",
       "      <td>0</td>\n",
       "      <td>0</td>\n",
       "      <td>0</td>\n",
       "      <td>0</td>\n",
       "      <td>...</td>\n",
       "      <td>0</td>\n",
       "      <td>0</td>\n",
       "      <td>0</td>\n",
       "      <td>0</td>\n",
       "      <td>0</td>\n",
       "      <td>0</td>\n",
       "      <td>0</td>\n",
       "      <td>0</td>\n",
       "      <td>0</td>\n",
       "      <td>0</td>\n",
       "    </tr>\n",
       "    <tr>\n",
       "      <th>com.transsion.phoenix</th>\n",
       "      <td>0</td>\n",
       "      <td>0</td>\n",
       "      <td>0</td>\n",
       "      <td>0</td>\n",
       "      <td>0</td>\n",
       "      <td>1</td>\n",
       "      <td>1</td>\n",
       "      <td>1</td>\n",
       "      <td>1</td>\n",
       "      <td>1</td>\n",
       "      <td>...</td>\n",
       "      <td>0</td>\n",
       "      <td>0</td>\n",
       "      <td>0</td>\n",
       "      <td>0</td>\n",
       "      <td>0</td>\n",
       "      <td>0</td>\n",
       "      <td>0</td>\n",
       "      <td>0</td>\n",
       "      <td>0</td>\n",
       "      <td>0</td>\n",
       "    </tr>\n",
       "    <tr>\n",
       "      <th>com.vivaldi.browser</th>\n",
       "      <td>0</td>\n",
       "      <td>0</td>\n",
       "      <td>0</td>\n",
       "      <td>0</td>\n",
       "      <td>0</td>\n",
       "      <td>0</td>\n",
       "      <td>0</td>\n",
       "      <td>0</td>\n",
       "      <td>0</td>\n",
       "      <td>0</td>\n",
       "      <td>...</td>\n",
       "      <td>1</td>\n",
       "      <td>1</td>\n",
       "      <td>1</td>\n",
       "      <td>1</td>\n",
       "      <td>1</td>\n",
       "      <td>1</td>\n",
       "      <td>1</td>\n",
       "      <td>1</td>\n",
       "      <td>1</td>\n",
       "      <td>1</td>\n",
       "    </tr>\n",
       "  </tbody>\n",
       "</table></div>"
      ],
      "text/plain": [
       "Rank                           1.0    2.0    3.0    4.0    5.0    13.0   \\\n",
       "App ID                                                                    \n",
       "com.brave.browser                  1      1      1      1      0      0   \n",
       "com.duckduckgo.mobile.android      2      0      0      0      2      0   \n",
       "com.transsion.phoenix              0      0      0      0      0      1   \n",
       "com.vivaldi.browser                0      0      0      0      0      0   \n",
       "\n",
       "Rank                           14.0   15.0   16.0   17.0   ...  86.0   87.0   \\\n",
       "App ID                                                     ...                 \n",
       "com.brave.browser                  0      0      0      0  ...      0      0   \n",
       "com.duckduckgo.mobile.android      0      0      0      0  ...      0      0   \n",
       "com.transsion.phoenix              1      1      1      1  ...      0      0   \n",
       "com.vivaldi.browser                0      0      0      0  ...      1      1   \n",
       "\n",
       "Rank                           89.0   90.0   92.0   94.0   96.0   97.0   \\\n",
       "App ID                                                                    \n",
       "com.brave.browser                  0      0      0      0      0      0   \n",
       "com.duckduckgo.mobile.android      0      0      0      0      0      0   \n",
       "com.transsion.phoenix              0      0      0      0      0      0   \n",
       "com.vivaldi.browser                1      1      1      1      1      1   \n",
       "\n",
       "Rank                           105.0  134.0  \n",
       "App ID                                       \n",
       "com.brave.browser                  0      0  \n",
       "com.duckduckgo.mobile.android      0      0  \n",
       "com.transsion.phoenix              0      0  \n",
       "com.vivaldi.browser                1      1  \n",
       "\n",
       "[4 rows x 60 columns]"
      ]
     },
     "execution_count": 73,
     "metadata": {},
     "output_type": "execute_result"
    }
   ],
   "source": [
    "privacy_browsers_for_android = df[df['Keyword'] == \"privacy browsers for android\"]\n",
    "pd.crosstab(privacy_browsers_for_android[\"App ID\"], privacy_browsers_for_android[\"Rank\"])\n",
    "# android broweser has some impact in its rank. But very less values(4) so cant consider."
   ]
  },
  {
   "cell_type": "code",
   "execution_count": 74,
   "id": "1befd597",
   "metadata": {},
   "outputs": [],
   "source": [
    "# Conclusion about the URL is that: THe dataset is so random that there is no relation between the ranking and the App ID."
   ]
  },
  {
   "cell_type": "markdown",
   "id": "c8bf5f50",
   "metadata": {},
   "source": [
    "***"
   ]
  },
  {
   "cell_type": "code",
   "execution_count": 114,
   "id": "f7441ff9",
   "metadata": {},
   "outputs": [],
   "source": [
    "from functions import * # A text processing function I made."
   ]
  },
  {
   "cell_type": "code",
   "execution_count": 115,
   "id": "12057153",
   "metadata": {},
   "outputs": [
    {
     "data": {
      "text/plain": [
       "Index(['Keyword', 'Rank', 'App ID', 'Short Description', 'Long Description'], dtype='object')"
      ]
     },
     "execution_count": 115,
     "metadata": {},
     "output_type": "execute_result"
    }
   ],
   "source": [
    "df.columns"
   ]
  },
  {
   "cell_type": "code",
   "execution_count": 132,
   "id": "5acc4938",
   "metadata": {},
   "outputs": [],
   "source": [
    "df['clean_Short'] = df['Short Description'].map(lambda text: normalize_and_lemmaize(text))"
   ]
  },
  {
   "cell_type": "code",
   "execution_count": 133,
   "id": "1492a0c1",
   "metadata": {},
   "outputs": [
    {
     "data": {
      "text/plain": [
       "Keyword              0\n",
       "Rank                 0\n",
       "App ID               0\n",
       "Short Description    0\n",
       "Long Description     0\n",
       "clean_Short          0\n",
       "dtype: int64"
      ]
     },
     "execution_count": 133,
     "metadata": {},
     "output_type": "execute_result"
    }
   ],
   "source": [
    "df.isnull().sum()  "
   ]
  },
  {
   "cell_type": "code",
   "execution_count": 134,
   "id": "0299583c",
   "metadata": {
    "scrolled": false
   },
   "outputs": [
    {
     "data": {
      "text/plain": [
       "Index\n",
       "0      small fast secure web browser good mobile brow...\n",
       "1      fast simple secure google chrome browser andro...\n",
       "2      fast safe web browser free vpn ad blocker qrco...\n",
       "3      fast safe web browser free vpn ad blocker qrco...\n",
       "4              puffin tv browser one app watch video web\n",
       "                             ...                        \n",
       "140    funny video football amp celebrity news fast a...\n",
       "142    fast amp private web browser ad blocker sync d...\n",
       "145    funny video football amp celebrity news fast a...\n",
       "147    fast amp private web browser ad blocker sync d...\n",
       "150    funny video football amp celebrity news fast a...\n",
       "Name: clean_Short, Length: 100, dtype: object"
      ]
     },
     "execution_count": 134,
     "metadata": {},
     "output_type": "execute_result"
    }
   ],
   "source": [
    "df[\"clean_Short\"].head(100)"
   ]
  },
  {
   "cell_type": "code",
   "execution_count": 135,
   "id": "3ea11565",
   "metadata": {},
   "outputs": [],
   "source": [
    "from sklearn.feature_extraction.text import TfidfVectorizer"
   ]
  },
  {
   "cell_type": "code",
   "execution_count": 136,
   "id": "f9dc5a96",
   "metadata": {},
   "outputs": [],
   "source": [
    "tfidf = TfidfVectorizer(ngram_range=(1,2),min_df=10)\n",
    "data = tfidf.fit_transform(df['clean_Short'].values.astype('U'))"
   ]
  },
  {
   "cell_type": "code",
   "execution_count": 137,
   "id": "4bbdb0d1",
   "metadata": {},
   "outputs": [],
   "source": [
    "freq_df = pd.DataFrame(data.toarray(), columns=tfidf.get_feature_names_out())"
   ]
  },
  {
   "cell_type": "code",
   "execution_count": 138,
   "id": "94e3a879",
   "metadata": {
    "scrolled": true
   },
   "outputs": [
    {
     "data": {
      "text/html": [
       "<div><div id=285ebae1-c794-4083-ae96-927e072de7a8 style=\"display:none; background-color:#9D6CFF; color:white; width:200px; height:30px; padding-left:5px; border-radius:4px; flex-direction:row; justify-content:space-around; align-items:center;\" onmouseover=\"this.style.backgroundColor='#BA9BF8'\" onmouseout=\"this.style.backgroundColor='#9D6CFF'\" onclick=\"window.commands?.execute('create-mitosheet-from-dataframe-output');\">See Full Dataframe in Mito</div> <script> if (window.commands.hasCommand('create-mitosheet-from-dataframe-output')) document.getElementById('285ebae1-c794-4083-ae96-927e072de7a8').style.display = 'flex' </script> <table border=\"1\" class=\"dataframe\">\n",
       "  <thead>\n",
       "    <tr style=\"text-align: right;\">\n",
       "      <th></th>\n",
       "      <th>Keyword</th>\n",
       "      <th>Rank</th>\n",
       "      <th>App ID</th>\n",
       "      <th>Short Description</th>\n",
       "      <th>Long Description</th>\n",
       "      <th>clean_Short</th>\n",
       "    </tr>\n",
       "    <tr>\n",
       "      <th>Index</th>\n",
       "      <th></th>\n",
       "      <th></th>\n",
       "      <th></th>\n",
       "      <th></th>\n",
       "      <th></th>\n",
       "      <th></th>\n",
       "    </tr>\n",
       "  </thead>\n",
       "  <tbody>\n",
       "    <tr>\n",
       "      <th>3035</th>\n",
       "      <td>best privacy browsers</td>\n",
       "      <td>44.0</td>\n",
       "      <td>com.vivaldi.browser</td>\n",
       "      <td>Fast &amp;amp; private web browser with ad blocker, sync, dark &amp;amp; private mode.</td>\n",
       "      <td>Vivaldi is a new private web browser with an integrated ad blocker, tracking protection, and useful built-in features. Browse with unique desktop-style tabs, end-to-end encrypted sync, dark &amp; private mode. Download for free and browse fast, take notes in the browser, and capture full-length screenshots.\\r\\n\\r\\n⛔️ Block ads and trackers\\r\\nBlock ads and stop trackers from following you around the web to browse more privately and securely. Keep privacy ahead and say goodbye to annoying video ads, pop ups, and creepy trackers while browsing with Vivaldi.\\r\\n\\r\\nPlay with a flexible user interface\\r\\nGive your browser a look that's uniquely yours with Vivaldi’s flexible user interface (UI). Browse with dark/light modes using new desktop-style tabs, and keep go-to tools within easy reach.\\r\\n\\r\\n🕵️‍♂️ Private browsing\\r\\nKeep your browsing history discreet using incognito private tabs – searches, sites visited, cookies and temporary files won't be stored by Vivaldi. \\r\\n\\r\\n🛠 Manage tabs with ease\\r\\nQuickly swipe to find open tabs, private incognito tabs and tabs you’ve recently closed in the browser or have open on another synced device. \\r\\n\\r\\n🔄 Bring your data with you\\r\\nSecurely sync your passwords, Bookmarks, Notes and keep your browsing data private between devices using end-to-end encryption with own servers in Iceland.\\r\\n\\r\\n🏃‍♀️ Get there faster\\r\\nKeep your favorite sites just a tap away and browse faster by adding custom Speed Dials to the new tab page.\\r\\n\\r\\n📝 Take notes\\r\\nJot down ideas by creating Notes as you browse the web and sync them securely between your devices.\\r\\n\\r\\n📸 Snap screenshots\\r\\nCapture a full-length screenshot of any website or take a snap of the visible area of any webpage while browsing. Share away. \\r\\n\\r\\n🔎 Switch search engines instantly\\r\\nUse search engine nicknames to quickly swap search engines while typing in Vivaldi’s Address Field. For example, type \"d\" to select DuckDuckGo or \"w\" for Wikipedia.\\r\\n\\r\\n🕹 Have fun and play Vivaldia\\r\\nVivaldia is a real 80s-style arcade runner game built into the Vivaldi browser. Play it both online and offline on your mobile and desktop. Includes gamepad support.\\r\\n\\r\\nVivaldi Browser features\\r\\n• Free Private Browser\\r\\n• Encrypted sync\\r\\n• Ad blocker\\r\\n• Screen capture\\r\\n• Speed dial shortcuts for favorites\\r\\n• Notes with rich text support\\r\\n• Private tabs\\r\\n• Dark mode\\r\\n• Bookmarks manager\\r\\n• Recently closed tabs\\r\\n• Search engine nicknames\\r\\n• Reader mode\\r\\n• Clone tab\\r\\n• Downloads manager\\r\\n\\r\\nDownload for free and browse faster with the new Vivaldi web browser. Leave a review about the browser and its features and let us know what you think. \\r\\n\\r\\nAbout Vivaldi Web Browser\\r\\nWe believe that many people want to customize and tweak every square inch of their web browser to make it their own. They want to access useful tools without sacrificing speed, privacy or security. And they want to be heard.\\r\\n\\r\\nThat's why we’re building a browser that is fast, powerful and flexible. A browser that respects your privacy and does not track you. A browser that adapts to you, not the other way around. \\r\\n\\r\\nVivaldi web browser is also available for free on desktops running Windows, macOS, and Linux. \\r\\n\\r\\nLearn more about Vivaldi browser and our mission by visiting https://vivaldi.com</td>\n",
       "      <td>fast amp private web browser ad blocker sync dark amp private mode</td>\n",
       "    </tr>\n",
       "    <tr>\n",
       "      <th>3041</th>\n",
       "      <td>fast browser</td>\n",
       "      <td>16.0</td>\n",
       "      <td>com.duckduckgo.mobile.android</td>\n",
       "      <td>Browse the web privately, search anonymously, and escape ad trackers.</td>\n",
       "      <td>Tired of being tracked online? We can help. At DuckDuckGo, we believe online privacy should be simple.\\r\\n\\r\\nDuckDuckGo Privacy Browser has the speed you need, the browsing features you expect (like tabs &amp; bookmarks), and comes packed with best-in-class privacy essentials:\\r\\n\\r\\nTap Fire Button, Burn Data — clear all your tabs and browsing data with one tap. \\r\\n\\r\\nEscape Online Tracking — automatically block hidden third-party trackers we can find lurking on websites you visit, which stops the companies behind those trackers from collecting and selling your data. \\r\\n\\r\\nSearch Privately — our private search engine comes built-in so you can search the Internet without being tracked.\\r\\n\\r\\nEnforce Encryption — force sites to use an encrypted (HTTPS) connection where available, protecting your data from prying eyes, like from unwanted snoopers and Internet service providers.\\r\\n\\r\\nDecode Privacy — each site you visit gets a Privacy Grade (A-F) so you can see how protected you are at a glance, and you can even dig into the details to see who we caught trying to track you. \\r\\n\\r\\nSignal Your Privacy Preference with GPC — with Global Privacy Control (GPC) built in, you'll invoke your legal privacy rights (e.g., under CCPA, GDPR) by telling websites not to sell or share your personal data by default.\\r\\n\\r\\nPrivacy, simplified.\\r\\n\\r\\nAbout Us: https://duckduckgo.com/about/\\r\\nDevice Privacy: https://spreadprivacy.com/tag/device-privacy-tips/ \\r\\nPrivacy Newsletter: https://duckduckgo.com/newsletter \\r\\nPrivacy Policy: https://duckduckgo.com/privacy/\\r\\nOpen Source: https://github.com/duckduckgo/Android</td>\n",
       "      <td>browse web privately search anonymously escape ad tracker</td>\n",
       "    </tr>\n",
       "    <tr>\n",
       "      <th>3042</th>\n",
       "      <td>fast browser</td>\n",
       "      <td>16.0</td>\n",
       "      <td>com.duckduckgo.mobile.android</td>\n",
       "      <td>Browse the web privately, search anonymously, and escape ad trackers.</td>\n",
       "      <td>Tired of being tracked online? We can help. At DuckDuckGo, we believe online privacy should be simple.\\r\\n\\r\\nDuckDuckGo Privacy Browser has the speed you need, the browsing features you expect (like tabs &amp; bookmarks), and comes packed with best-in-class privacy essentials:\\r\\n\\r\\nTap Fire Button, Burn Data — clear all your tabs and browsing data with one tap. \\r\\n\\r\\nEscape Online Tracking — automatically block hidden third-party trackers we can find lurking on websites you visit, which stops the companies behind those trackers from collecting and selling your data. \\r\\n\\r\\nSearch Privately — our private search engine comes built-in so you can search the Internet without being tracked.\\r\\n\\r\\nEnforce Encryption — force sites to use an encrypted (HTTPS) connection where available, protecting your data from prying eyes, like from unwanted snoopers and Internet service providers.\\r\\n\\r\\nDecode Privacy — each site you visit gets a Privacy Grade (A-F) so you can see how protected you are at a glance, and you can even dig into the details to see who we caught trying to track you. \\r\\n\\r\\nPrivacy, simplified.\\r\\n\\r\\nAbout Us: https://duckduckgo.com/about/\\r\\nDevice Privacy: https://spreadprivacy.com/tag/device-privacy-tips/ \\r\\nPrivacy Newsletter: https://duckduckgo.com/newsletter \\r\\nPrivacy Policy: https://duckduckgo.com/privacy/\\r\\nOpen Source: https://github.com/duckduckgo/Android</td>\n",
       "      <td>browse web privately search anonymously escape ad tracker</td>\n",
       "    </tr>\n",
       "    <tr>\n",
       "      <th>3049</th>\n",
       "      <td>ad free browser</td>\n",
       "      <td>31.0</td>\n",
       "      <td>com.transsion.phoenix</td>\n",
       "      <td>Funny video, Football &amp;amp; celebrity news, Fast &amp;amp; data-saving browser.</td>\n",
       "      <td>Phoenix Browser is a fast, safe web browser for your Android device, featuring a local news feed and FREE movie resources.\\r\\n\\r\\n✪Main features✪\\r\\n\\r\\nPhoenix browser loads your webpages 2x faster, Saves 90% of your data and enables smooth browsing on slow networks, Downloads all-format videos and social media clips at lightning speed. \\r\\n\\r\\n★Fast Browsing and Downloads: Access websites, download multiple files (videos, audio, documents and more) with the speed of light. Download online videos easily from lots of websites: Facebook、Instagram and etc.\\r\\n\\r\\n★Smart Video Downloader and Video Player: Automatically detects videos from any website for you to download in one click. Optimized video player for the best watching experience.\\r\\n\\r\\n★WhatsApp Status Saver plugin: Save your friends whatsapp status easily and safely.\\r\\n\\r\\n★Powerful File Manager\\r\\nEasily WhatsApp status saving and powerful file manager. Support more than 50 file formats, such as word, excel, ppt, pdf, etc. \\r\\n\\r\\n★Ad Block: Block annoying adverts and popups, save time and increase loading speed.\\r\\n\\r\\n★Data Saver: Stream movies, download files, browse more with less data on any website.\\r\\n \\r\\nFeatures:\\r\\n★Super Downloader\\r\\nPhoenix Browser can automatically detect downloadable videos with the smart detection function while you browse the web, which allows you to download and save online videos from almost every website. You can also download through BitTorrent and Magnet. With a download icon in the website, Phoenix Browser will inform the user whether there are online videos that the user can download or not. It’s very simple to download videos by using the smart download function. (!!!Download on YouTube is not available due to the policy of Google!!!)\\r\\n  \\r\\n★Incognito Browsing\\r\\nIncognito tab makes your browsing experience perfectly private without leaving any history, cookies, cache, etc. \\r\\n \\r\\n★Ad Block\\r\\nAd Block blocks various forms of annoying ads, pop-ups and banners to make your browsing comfortable. It not only speeds up the page loading speed but also reduces Internet data usage.\\r\\n \\r\\n★Bookmarks/History\\r\\nBookmarks help save your favorite websites and provide quick navigation for revisiting later on. History list helps with recollection. Both will save you time looking for your favorite websites.\\r\\n \\r\\n★Data Saving\\r\\nPhoenix Browser could compress data, speed up navigation and help you save a lot of cellular data traffic. \\r\\n \\r\\n★Add To Shortcut\\r\\nAdd your favorite websites like Facebook, Twitter, Instagram, YouTube, Amazon, Wikipedia, etc., for quick access.\\r\\n  \\r\\n★Built-in Video Player\\r\\nThe built-in video player provides a one-stop service from video downloading to video playing. You can watch videos directly without exiting the app.\\r\\n \\r\\n★Search Engines\\r\\nSwitch search engines according to your preference. We support Google, Yahoo, Ask, Yandex, AOL, DuckDuckGo and Bing.\\r\\n \\r\\n★Multi-Tab Manager\\r\\nEasy switching of pages from multiple websites. Using multi-tab manager will make your browsing experience smoother.\\r\\n \\r\\n★No Image Mode\\r\\nNo Image Mode disables image and video loading to save data on a poor network connection.\\r\\n \\r\\n★Night/Bright Mode\\r\\nNight Mode protects your eyes when browsing in darkness. Bright mode prevents the screen from going dark.\\r\\n \\r\\n★Switch to PC Website\\r\\nSupport cross-device browsing, i.e. from mobile to PC browser mode.\\r\\n  \\r\\n★Find in Page/Translate\\r\\nSearch to find whatever you need in website pages, and translation function is supported.\\r\\n \\r\\nFacebook Fan Page\\r\\nhttps://www.facebook.com/PhoenixBrowser/</td>\n",
       "      <td>funny video football amp celebrity news fast amp datasave browser</td>\n",
       "    </tr>\n",
       "    <tr>\n",
       "      <th>3058</th>\n",
       "      <td>android browser</td>\n",
       "      <td>15.0</td>\n",
       "      <td>net.fast.web.browser</td>\n",
       "      <td>The small, fastest, secure Web Browser, best mobile browser, fast search Google.</td>\n",
       "      <td>One of the smallest, fastest, secure Web Browser; \\r\\nIt is specifically designed for mobile phones and tablet, brings you an amazing Premium web experience.\\r\\n\\r\\nIt is based off the Android WebKit Engine.\\r\\n\\r\\nKey Features:\\r\\n- Tabbed Internet Browsing\\r\\n- Incognito Mode. Private browse the web without saving any browser history.\\r\\n- Supports Adobe Flash Player \\r\\n- The fastest Start Times: View web pages quicker on your phone\\r\\n- Block Ads\\r\\n- Homepage: Add favorite links to your homepage with a single click and access sites easily from your mobile desktop;\\r\\n- Bookmarks\\r\\n- History\\r\\n- Find in Page\\r\\n- Super easy copy/paste\\r\\n- Small Footprint\\r\\n- Full-screen mode\\r\\n- Quick search: most popular default search engines\\r\\n- User Agent settings\\r\\n- Advanced Gesture feature\\r\\n- Sharing - Super-easy and intuitive ways to share mobile contents through social media channels.\\r\\n- Advanced Settings\\r\\n- Uses the Native JavaScript and WebKit Engine so file size is smaller\\r\\n- Custom download location\\r\\n\\r\\nIt is a high-performance small-sized Internet browser built for those who don't want the cumbersome size of other Browser. \\r\\nWeb Browser with the latest security and privacy features to help you stay safe on the internet.\\r\\nWe wish you can have the best web surfing experience for using Web Browser.</td>\n",
       "      <td>small fast secure web browser good mobile browser fast search google</td>\n",
       "    </tr>\n",
       "  </tbody>\n",
       "</table></div>"
      ],
      "text/plain": [
       "                     Keyword  Rank                         App ID  \\\n",
       "Index                                                               \n",
       "3035   best privacy browsers  44.0            com.vivaldi.browser   \n",
       "3041            fast browser  16.0  com.duckduckgo.mobile.android   \n",
       "3042            fast browser  16.0  com.duckduckgo.mobile.android   \n",
       "3049         ad free browser  31.0          com.transsion.phoenix   \n",
       "3058         android browser  15.0           net.fast.web.browser   \n",
       "\n",
       "                                       Short Description  \\\n",
       "Index                                                      \n",
       "3035   Fast &amp; private web browser with ad blocker...   \n",
       "3041   Browse the web privately, search anonymously, ...   \n",
       "3042   Browse the web privately, search anonymously, ...   \n",
       "3049   Funny video, Football &amp; celebrity news, Fa...   \n",
       "3058   The small, fastest, secure Web Browser, best m...   \n",
       "\n",
       "                                        Long Description  \\\n",
       "Index                                                      \n",
       "3035   Vivaldi is a new private web browser with an i...   \n",
       "3041   Tired of being tracked online? We can help. At...   \n",
       "3042   Tired of being tracked online? We can help. At...   \n",
       "3049   Phoenix Browser is a fast, safe web browser fo...   \n",
       "3058   One of the smallest, fastest, secure Web Brows...   \n",
       "\n",
       "                                             clean_Short  \n",
       "Index                                                     \n",
       "3035   fast amp private web browser ad blocker sync d...  \n",
       "3041   browse web privately search anonymously escape...  \n",
       "3042   browse web privately search anonymously escape...  \n",
       "3049   funny video football amp celebrity news fast a...  \n",
       "3058   small fast secure web browser good mobile brow...  "
      ]
     },
     "execution_count": 138,
     "metadata": {},
     "output_type": "execute_result"
    }
   ],
   "source": [
    "df.tail()"
   ]
  },
  {
   "cell_type": "code",
   "execution_count": 139,
   "id": "52cf1a2b",
   "metadata": {
    "scrolled": true
   },
   "outputs": [
    {
     "data": {
      "text/plain": [
       "599    0.000000\n",
       "600    0.111710\n",
       "601    0.111710\n",
       "602    0.111710\n",
       "603    0.111710\n",
       "604    0.111710\n",
       "605    0.000000\n",
       "606    0.000000\n",
       "607    0.112411\n",
       "608    0.141063\n",
       "Name: browser, dtype: float64"
      ]
     },
     "execution_count": 139,
     "metadata": {},
     "output_type": "execute_result"
    }
   ],
   "source": [
    "freq_df[\"browser\"].tail(10)"
   ]
  },
  {
   "cell_type": "code",
   "execution_count": 140,
   "id": "fde4c5f3",
   "metadata": {},
   "outputs": [],
   "source": [
    "df[\"short_browser\"] = freq_df[\"browser\"]"
   ]
  },
  {
   "cell_type": "code",
   "execution_count": 141,
   "id": "f33ef967",
   "metadata": {},
   "outputs": [],
   "source": [
    "df['clean_long'] = df['Long Description'].map(lambda text: normalize_and_lemmaize(text))"
   ]
  },
  {
   "cell_type": "code",
   "execution_count": 142,
   "id": "3a902360",
   "metadata": {},
   "outputs": [],
   "source": [
    "tfidf = TfidfVectorizer(ngram_range=(1,2),min_df=10)\n",
    "data = tfidf.fit_transform(df['clean_long'].values.astype('U'))"
   ]
  },
  {
   "cell_type": "code",
   "execution_count": 143,
   "id": "8162eb30",
   "metadata": {},
   "outputs": [],
   "source": [
    "freq_df1 = pd.DataFrame(data.toarray(), columns=tfidf.get_feature_names_out())"
   ]
  },
  {
   "cell_type": "code",
   "execution_count": 144,
   "id": "5427849e",
   "metadata": {},
   "outputs": [
    {
     "data": {
      "text/plain": [
       "0      0.101994\n",
       "1      0.026979\n",
       "2      0.072585\n",
       "3      0.059159\n",
       "4      0.105637\n",
       "         ...   \n",
       "604    0.237089\n",
       "605    0.019574\n",
       "606    0.023014\n",
       "607    0.084202\n",
       "608    0.101994\n",
       "Name: browser, Length: 609, dtype: float64"
      ]
     },
     "execution_count": 144,
     "metadata": {},
     "output_type": "execute_result"
    }
   ],
   "source": [
    "freq_df1[\"browser\"]"
   ]
  },
  {
   "cell_type": "code",
   "execution_count": 145,
   "id": "b0d6e190",
   "metadata": {},
   "outputs": [],
   "source": [
    "df[\"long_browser\"] = freq_df1[\"browser\"]"
   ]
  },
  {
   "cell_type": "code",
   "execution_count": 146,
   "id": "eb731f90",
   "metadata": {},
   "outputs": [
    {
     "data": {
      "text/plain": [
       "609"
      ]
     },
     "execution_count": 146,
     "metadata": {},
     "output_type": "execute_result"
    }
   ],
   "source": [
    "len(df)"
   ]
  },
  {
   "cell_type": "code",
   "execution_count": 147,
   "id": "c7844081",
   "metadata": {},
   "outputs": [],
   "source": [
    "df[\"impact\"] = df[\"short_browser\"] > df[\"long_browser\"]"
   ]
  },
  {
   "cell_type": "code",
   "execution_count": 153,
   "id": "bef656fe",
   "metadata": {},
   "outputs": [],
   "source": [
    "df[\"impact\"] = df.apply(lambda x: 1 if x[\"impact\"] is True else 0, axis=1)\n",
    "# 1 is for keyword in short description have more impact\n",
    "# 0 fro keyword in long description have more impact"
   ]
  },
  {
   "cell_type": "code",
   "execution_count": 159,
   "id": "359654da",
   "metadata": {},
   "outputs": [
    {
     "data": {
      "text/plain": [
       "0    507\n",
       "1    102\n",
       "Name: impact, dtype: int64"
      ]
     },
     "execution_count": 159,
     "metadata": {},
     "output_type": "execute_result"
    }
   ],
   "source": [
    "df[\"impact\"].value_counts()"
   ]
  },
  {
   "cell_type": "code",
   "execution_count": 161,
   "id": "0e5e59ea",
   "metadata": {},
   "outputs": [
    {
     "data": {
      "text/html": [
       "<div><div id=7d5e882c-4286-41cd-80b4-185ce6d189ca style=\"display:none; background-color:#9D6CFF; color:white; width:200px; height:30px; padding-left:5px; border-radius:4px; flex-direction:row; justify-content:space-around; align-items:center;\" onmouseover=\"this.style.backgroundColor='#BA9BF8'\" onmouseout=\"this.style.backgroundColor='#9D6CFF'\" onclick=\"window.commands?.execute('create-mitosheet-from-dataframe-output');\">See Full Dataframe in Mito</div> <script> if (window.commands.hasCommand('create-mitosheet-from-dataframe-output')) document.getElementById('7d5e882c-4286-41cd-80b4-185ce6d189ca').style.display = 'flex' </script> <table border=\"1\" class=\"dataframe\">\n",
       "  <thead>\n",
       "    <tr style=\"text-align: right;\">\n",
       "      <th>Rank</th>\n",
       "      <th>1.0</th>\n",
       "      <th>2.0</th>\n",
       "      <th>3.0</th>\n",
       "      <th>4.0</th>\n",
       "      <th>5.0</th>\n",
       "      <th>6.0</th>\n",
       "      <th>7.0</th>\n",
       "      <th>8.0</th>\n",
       "      <th>9.0</th>\n",
       "      <th>10.0</th>\n",
       "      <th>...</th>\n",
       "      <th>111.0</th>\n",
       "      <th>112.0</th>\n",
       "      <th>113.0</th>\n",
       "      <th>114.0</th>\n",
       "      <th>115.0</th>\n",
       "      <th>116.0</th>\n",
       "      <th>117.0</th>\n",
       "      <th>118.0</th>\n",
       "      <th>119.0</th>\n",
       "      <th>134.0</th>\n",
       "    </tr>\n",
       "    <tr>\n",
       "      <th>impact</th>\n",
       "      <th></th>\n",
       "      <th></th>\n",
       "      <th></th>\n",
       "      <th></th>\n",
       "      <th></th>\n",
       "      <th></th>\n",
       "      <th></th>\n",
       "      <th></th>\n",
       "      <th></th>\n",
       "      <th></th>\n",
       "      <th></th>\n",
       "      <th></th>\n",
       "      <th></th>\n",
       "      <th></th>\n",
       "      <th></th>\n",
       "      <th></th>\n",
       "      <th></th>\n",
       "      <th></th>\n",
       "      <th></th>\n",
       "      <th></th>\n",
       "      <th></th>\n",
       "    </tr>\n",
       "  </thead>\n",
       "  <tbody>\n",
       "    <tr>\n",
       "      <th>0</th>\n",
       "      <td>13</td>\n",
       "      <td>14</td>\n",
       "      <td>11</td>\n",
       "      <td>11</td>\n",
       "      <td>16</td>\n",
       "      <td>18</td>\n",
       "      <td>17</td>\n",
       "      <td>17</td>\n",
       "      <td>12</td>\n",
       "      <td>15</td>\n",
       "      <td>...</td>\n",
       "      <td>1</td>\n",
       "      <td>1</td>\n",
       "      <td>1</td>\n",
       "      <td>1</td>\n",
       "      <td>1</td>\n",
       "      <td>2</td>\n",
       "      <td>2</td>\n",
       "      <td>1</td>\n",
       "      <td>1</td>\n",
       "      <td>0</td>\n",
       "    </tr>\n",
       "    <tr>\n",
       "      <th>1</th>\n",
       "      <td>4</td>\n",
       "      <td>9</td>\n",
       "      <td>8</td>\n",
       "      <td>9</td>\n",
       "      <td>7</td>\n",
       "      <td>2</td>\n",
       "      <td>3</td>\n",
       "      <td>2</td>\n",
       "      <td>4</td>\n",
       "      <td>2</td>\n",
       "      <td>...</td>\n",
       "      <td>0</td>\n",
       "      <td>0</td>\n",
       "      <td>0</td>\n",
       "      <td>0</td>\n",
       "      <td>0</td>\n",
       "      <td>0</td>\n",
       "      <td>0</td>\n",
       "      <td>0</td>\n",
       "      <td>0</td>\n",
       "      <td>1</td>\n",
       "    </tr>\n",
       "  </tbody>\n",
       "</table></div>"
      ],
      "text/plain": [
       "Rank    1.0    2.0    3.0    4.0    5.0    6.0    7.0    8.0    9.0    10.0   \\\n",
       "impact                                                                         \n",
       "0          13     14     11     11     16     18     17     17     12     15   \n",
       "1           4      9      8      9      7      2      3      2      4      2   \n",
       "\n",
       "Rank    ...  111.0  112.0  113.0  114.0  115.0  116.0  117.0  118.0  119.0  \\\n",
       "impact  ...                                                                  \n",
       "0       ...      1      1      1      1      1      2      2      1      1   \n",
       "1       ...      0      0      0      0      0      0      0      0      0   \n",
       "\n",
       "Rank    134.0  \n",
       "impact         \n",
       "0           0  \n",
       "1           1  \n",
       "\n",
       "[2 rows x 119 columns]"
      ]
     },
     "execution_count": 161,
     "metadata": {},
     "output_type": "execute_result"
    }
   ],
   "source": [
    "pd.crosstab(df[\"impact\"], df[\"Rank\"])"
   ]
  },
  {
   "cell_type": "markdown",
   "id": "af1ed94f",
   "metadata": {},
   "source": [
    "- As we can see from the crosstab that, The number of ranks are quite high for Long Description.\n",
    "- This goes valid for our dataset\n",
    "- There for Long descriptions are having more correlation or impact in determining whether a Rank is 1 or 100.\n",
    "- Repeativity of the keywords maybe a big factor for this result.\n",
    "\n",
    "\n",
    "\n",
    "\n",
    "\n",
    "\n",
    "\n",
    "\n",
    "\n",
    "\n",
    "\n",
    "\n",
    "\n",
    "\n",
    "\n",
    "\n",
    "\n",
    "\n",
    "\n",
    "\n",
    "\n",
    "\n",
    "\n",
    "\n",
    "\n",
    "\n",
    "\n",
    "\n",
    "\n",
    "\n",
    "\n",
    "\n",
    "\n",
    "\n",
    "\n",
    "\n",
    "\n",
    "\n",
    "\n",
    "\n",
    "\n",
    "\n",
    "\n",
    "\n",
    "\n",
    "\n",
    "\n",
    "\n",
    "\n",
    "\n",
    "\n",
    "\n",
    "\n",
    "\n",
    "\n",
    "\n",
    "\n",
    "\n",
    "\n",
    "\n",
    "\n",
    "\n",
    "\n",
    "\n",
    "\n",
    "\n",
    "\n",
    "\n",
    "\n",
    "\n",
    "\n",
    "\n",
    "\n",
    "\n",
    "\n",
    "\n",
    "\n",
    "\n",
    "\n",
    "\n",
    "\n",
    "\n",
    "\n",
    "\n",
    "\n",
    "\n",
    "\n",
    "\n",
    "\n",
    "\n",
    "\n",
    "\n",
    "\n",
    "\n",
    "\n",
    "\n",
    "\n",
    "\n",
    "\n",
    "\n",
    "\n",
    "\n",
    "\n",
    "\n",
    "\n",
    "\n",
    "\n",
    "\n",
    "\n",
    "\n",
    "\n",
    "\n",
    "\n",
    "\n",
    "\n",
    "\n",
    "\n",
    "\n",
    "\n",
    "\n",
    "\n",
    "\n",
    "\n",
    "\n",
    "\n",
    "\n",
    "\n",
    "\n",
    "\n",
    "\n",
    "\n",
    "\n",
    "\n",
    "\n",
    "\n",
    "\n",
    "\n",
    "\n",
    "\n",
    "\n",
    "\n",
    "\n",
    "\n",
    "\n"
   ]
  },
  {
   "cell_type": "markdown",
   "id": "fa002e40",
   "metadata": {},
   "source": [
    "##### Also there are only 13 unique Long descriptions and 9 unique short descriptions trying to values rank for 119 values.\n",
    "##### I am gonna take a solid hunch from the data(browser rankings) I have seen that the above relation is not valid for real life datasets.\n",
    "##### Same goes for.. whether a keyword present in first 10 words will make any impact in determining the rank of a browser app.\n"
   ]
  },
  {
   "cell_type": "markdown",
   "id": "05059a74",
   "metadata": {},
   "source": [
    "# Final Hypothesis"
   ]
  },
  {
   "cell_type": "markdown",
   "id": "48883333",
   "metadata": {},
   "source": [
    "#### According to my research, the keywords in 6-15 words in the description is given more priority and weightage.\n",
    "#### And the url or the App ID has some correlation in determining the rank of the app for that keyword.\n",
    "#### And also precise Short description have more correlation than the long description.\n",
    "#### These are the hypothesis I have reached after understanding Keyword rankings with SEO and ASO."
   ]
  },
  {
   "cell_type": "code",
   "execution_count": null,
   "id": "399e28b1",
   "metadata": {},
   "outputs": [],
   "source": []
  }
 ],
 "metadata": {
  "kernelspec": {
   "display_name": "Python 3 (ipykernel)",
   "language": "python",
   "name": "python3"
  },
  "language_info": {
   "codemirror_mode": {
    "name": "ipython",
    "version": 3
   },
   "file_extension": ".py",
   "mimetype": "text/x-python",
   "name": "python",
   "nbconvert_exporter": "python",
   "pygments_lexer": "ipython3",
   "version": "3.8.5"
  }
 },
 "nbformat": 4,
 "nbformat_minor": 5
}
